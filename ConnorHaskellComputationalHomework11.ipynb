{
 "cells": [
  {
   "cell_type": "markdown",
   "metadata": {},
   "source": [
    "# Classical Mechanics I (PHYS 311)\n",
    "## Studio 13"
   ]
  },
  {
   "cell_type": "markdown",
   "metadata": {},
   "source": [
    "*Name:* Connor Haskell\n",
    "\n",
    "*Date:* 12/2/2024"
   ]
  },
  {
   "cell_type": "markdown",
   "metadata": {},
   "source": [
    "## Matrix Operations"
   ]
  },
  {
   "cell_type": "code",
   "execution_count": 1,
   "metadata": {
    "scrolled": true
   },
   "outputs": [
    {
     "name": "stdout",
     "output_type": "stream",
     "text": [
      "Populating the interactive namespace from numpy and matplotlib\n"
     ]
    }
   ],
   "source": [
    "%pylab inline"
   ]
  },
  {
   "cell_type": "markdown",
   "metadata": {},
   "source": [
    "Google how to represent matrices in numpy. If any of the following bolded terms are unfamiliar to you, google them! Wikipedia is your friend.\n",
    "\n",
    "* Create a 3x3 matrix A.\n",
    "* Demonstrate how to multiply that matrix by a scalar.\n",
    "* Demonstrate multiplying A by a different 3x3 matrix. (This is not with the `*` operator!)\n",
    "* Multiply A by a (3D) vector. (i.e. calculate Av)\n",
    "* Calculate the **transpose** of A.\n",
    "* Calculate the **trace** of A.\n",
    "* Calculate the **determinant** of A.\n",
    "* Calculate the **inverse** of A if it exists.\n",
    "* Create a 3-vector with nonzero x,y,z components, and rotate it about the x axis by an angle $pi/2$. Look up the form of a 3D rotation matrix.\n",
    "* EC(+0.5): Demonstrate a nonzero rotation of a 10-dimensional vector $\\vec{v}=(x_1,x_2,...,x_10)$ in the $x_1,x_2$ plane\n",
    "\n",
    "Google how to find the eigenvectors of matrices in numpy.\n",
    "\n",
    "* Calculate a moment of inertia tensor for a system of two particles with equal mass (let's set it to 1). One at the origin, and the other at (1,1,0). \n",
    "* Find the eigenvectors of this new moment of inertia tensor. (Comment on the resulting eigenvectors!) Notice that numpy will return normalized eigenvectors.\n",
    "* EC(+0.5): Now that you have the eigenvectors, you can express your system in a coordinate system defined by these three eigenvectors. Calculate the the second particle position in this new coordinate system. (Remember that the $x^\\prime$ component of a vector $\\vec{v}$ will just be $\\vec{v}\\cdot\\hat{x}^{\\prime}$.) You should have new descriptions of the two particle positions in this new basis. Calculate the moment of inertia tensor in this new coordinate system and show that it's diagonal! i.e. the Eigenvectors of the matrix are the principle axes!"
   ]
  },
  {
   "cell_type": "code",
   "execution_count": 2,
   "metadata": {},
   "outputs": [
    {
     "name": "stdout",
     "output_type": "stream",
     "text": [
      "Matrix A:\n",
      "[[1 2 3]\n",
      " [4 5 6]\n",
      " [7 8 9]]\n"
     ]
    }
   ],
   "source": [
    "matrixA = array([[1,2,3],[4,5,6],[7,8,9]])\n",
    "print(\"Matrix A:\")\n",
    "print(matrixA)"
   ]
  },
  {
   "cell_type": "code",
   "execution_count": 3,
   "metadata": {},
   "outputs": [
    {
     "name": "stdout",
     "output_type": "stream",
     "text": [
      "Matrix A multiplied by Scalar (2):\n",
      "[[ 2  4  6]\n",
      " [ 8 10 12]\n",
      " [14 16 18]]\n"
     ]
    }
   ],
   "source": [
    "Scalar_mult = 2*matrixA\n",
    "print(\"Matrix A multiplied by Scalar (2):\")\n",
    "print(Scalar_mult)"
   ]
  },
  {
   "cell_type": "code",
   "execution_count": 4,
   "metadata": {},
   "outputs": [
    {
     "name": "stdout",
     "output_type": "stream",
     "text": [
      "Matrix A dot Matrix B:\n",
      "[[ 30  24  18]\n",
      " [ 84  69  54]\n",
      " [138 114  90]]\n"
     ]
    }
   ],
   "source": [
    "matrixB = array([[9,8,7],[6,5,4],[3,2,1]])\n",
    "matrixBdotA = matrixA@matrixB\n",
    "print(\"Matrix A dot Matrix B:\")\n",
    "print(matrixBdotA)"
   ]
  },
  {
   "cell_type": "code",
   "execution_count": 5,
   "metadata": {},
   "outputs": [
    {
     "name": "stdout",
     "output_type": "stream",
     "text": [
      "Matrix A dot Vector A: [14 32 50]\n"
     ]
    }
   ],
   "source": [
    "vectorA = array([1,2,3])\n",
    "matrixAdot_vectorA = matrixA @ vectorA\n",
    "print(\"Matrix A dot Vector A:\", matrixAdot_vectorA)\n"
   ]
  },
  {
   "cell_type": "code",
   "execution_count": 6,
   "metadata": {},
   "outputs": [
    {
     "name": "stdout",
     "output_type": "stream",
     "text": [
      "Transpose of Matrix A:\n",
      " [[1 4 7]\n",
      " [2 5 8]\n",
      " [3 6 9]]\n"
     ]
    }
   ],
   "source": [
    "matrixA_trans = matrixA.T\n",
    "print(\"Transpose of Matrix A:\\n\", matrixA_trans)"
   ]
  },
  {
   "cell_type": "code",
   "execution_count": 7,
   "metadata": {},
   "outputs": [
    {
     "name": "stdout",
     "output_type": "stream",
     "text": [
      "Trace of Matrix A: 15\n"
     ]
    }
   ],
   "source": [
    "matrixA_trace = trace(matrixA)\n",
    "print(\"Trace of Matrix A:\", matrixA_trace)\n"
   ]
  },
  {
   "cell_type": "code",
   "execution_count": 8,
   "metadata": {},
   "outputs": [
    {
     "name": "stdout",
     "output_type": "stream",
     "text": [
      "Determinant of Matrix A: -9.51619735392994e-16\n"
     ]
    }
   ],
   "source": [
    "matrixA_det = linalg.det(matrixA)\n",
    "print(\"Determinant of Matrix A:\", matrixA_det)"
   ]
  },
  {
   "cell_type": "code",
   "execution_count": 9,
   "metadata": {},
   "outputs": [
    {
     "name": "stdout",
     "output_type": "stream",
     "text": [
      "Inverse does not exist because the determinant is below the threshold.\n"
     ]
    }
   ],
   "source": [
    "threshold = 1e-10\n",
    "\n",
    "\n",
    "matrixA_det = linalg.det(matrixA)\n",
    "\n",
    "\n",
    "if abs(matrixA_det) > threshold:\n",
    "    matrixA_inv = linalg.inv(matrixA)\n",
    "    print(\"Inverse exists. Inverse of Matrix A is:\", matrixA_inv)\n",
    "else:\n",
    "    print(\"Inverse does not exist because the determinant is below the threshold.\")"
   ]
  },
  {
   "cell_type": "code",
   "execution_count": 10,
   "metadata": {},
   "outputs": [
    {
     "name": "stdout",
     "output_type": "stream",
     "text": [
      "Original VectorA: [1 2 3]\n",
      "Rotated VectorA: [ 1. -3.  2.]\n"
     ]
    }
   ],
   "source": [
    "theta = pi / 2\n",
    "\n",
    "rotation_matrix = np.array([[1, 0, 0],[0, np.cos(theta), -np.sin(theta)],[0, np.sin(theta), np.cos(theta)]])\n",
    "vectorA_rotated = rotation_matrix @ vectorA\n",
    "\n",
    "print(\"Original VectorA:\", vectorA)\n",
    "print(\"Rotated VectorA:\", vectorA_rotated)"
   ]
  },
  {
   "cell_type": "code",
   "execution_count": 11,
   "metadata": {},
   "outputs": [
    {
     "name": "stdout",
     "output_type": "stream",
     "text": [
      "Original Vector: [ 1  2  3  4  5  6  7  8  9 10]\n",
      "Rotated Vector: [ 1.          3.23205081  3.59807621  4.          5.          6.\n",
      "  7.          8.          9.         10.        ]\n"
     ]
    }
   ],
   "source": [
    "v = np.array([1, 2, 3, 4, 5, 6, 7, 8, 9, 10])\n",
    "\n",
    "theta = np.pi / 6 \n",
    "\n",
    "\n",
    "rotation_matrix = eye(10)\n",
    "\n",
    "#creates a 10x10 identity matrix\n",
    "#then use the 3D rotation for x1 x2 plane\n",
    "\n",
    "rotation_matrix[1, 1] = cos(theta)\n",
    "rotation_matrix[1, 2] = sin(theta)\n",
    "rotation_matrix[2, 1] = sin(theta)\n",
    "rotation_matrix[2, 2] = cos(theta)\n",
    "\n",
    "rotated_vector = rotation_matrix @ v\n",
    "\n",
    "print(\"Original Vector:\", v)\n",
    "print(\"Rotated Vector:\", rotated_vector)"
   ]
  },
  {
   "cell_type": "code",
   "execution_count": 12,
   "metadata": {},
   "outputs": [
    {
     "name": "stdout",
     "output_type": "stream",
     "text": [
      "Moment of Inertia Tensor is:\n",
      "[[ 1 -1  0]\n",
      " [-1  1  0]\n",
      " [ 0  0  2]]\n"
     ]
    }
   ],
   "source": [
    "# xyz components for the position vectors of different masses m0 and m1\n",
    "\n",
    "x0 = 0\n",
    "y0 = 0\n",
    "z0 = 0\n",
    "x1 = 1\n",
    "y1 = 1\n",
    "z1 = 0\n",
    "m = 1\n",
    "\n",
    "\n",
    "Ixx = m*(y0**2 + z0**2) + m*(y1**2 + z1**2)\n",
    "Iyy = m*(x0**2 + z0**2) + m*(x1**2 + z1**2)\n",
    "Izz = m*(y0**2 + x0**2) + m*(y1**2 + x1**2)\n",
    "Ixy = Iyx = -m*(x0*y0) -m*(x1*y1)\n",
    "Ixz = Izx = -m*(x0*z0) -m*(x1*z1)\n",
    "Izy = Iyz = -m*(z0*y0) -m*(z1*y1)\n",
    "\n",
    "MoI_tensor = array([\n",
    "    [Ixx, Ixy, Ixz],\n",
    "    [Iyx, Iyy, Iyz],\n",
    "    [Izx, Izy, Izz]\n",
    "])\n",
    "\n",
    "print(\"Moment of Inertia Tensor is:\")\n",
    "print(MoI_tensor)"
   ]
  },
  {
   "cell_type": "code",
   "execution_count": 13,
   "metadata": {},
   "outputs": [
    {
     "name": "stdout",
     "output_type": "stream",
     "text": [
      "Eigenvalues are:\n",
      "[2. 0. 2.]\n",
      "\n",
      "Eigenvectors are:\n",
      "[[ 0.70710678  0.70710678  0.        ]\n",
      " [-0.70710678  0.70710678  0.        ]\n",
      " [ 0.          0.          1.        ]]\n"
     ]
    }
   ],
   "source": [
    "eigenvalues, eigenvectors = linalg.eig(MoI_tensor)\n",
    "\n",
    "\n",
    "print(\"Eigenvalues are:\")\n",
    "print(eigenvalues)\n",
    "print(\"\\nEigenvectors are:\")\n",
    "print(eigenvectors)"
   ]
  },
  {
   "cell_type": "code",
   "execution_count": null,
   "metadata": {},
   "outputs": [],
   "source": []
  }
 ],
 "metadata": {
  "kernelspec": {
   "display_name": "Python 3",
   "language": "python",
   "name": "python3"
  },
  "language_info": {
   "codemirror_mode": {
    "name": "ipython",
    "version": 3
   },
   "file_extension": ".py",
   "mimetype": "text/x-python",
   "name": "python",
   "nbconvert_exporter": "python",
   "pygments_lexer": "ipython3",
   "version": "3.8.8"
  },
  "toc": {
   "base_numbering": 1,
   "nav_menu": {},
   "number_sections": true,
   "sideBar": true,
   "skip_h1_title": false,
   "title_cell": "Table of Contents",
   "title_sidebar": "Contents",
   "toc_cell": false,
   "toc_position": {},
   "toc_section_display": true,
   "toc_window_display": false
  },
  "varInspector": {
   "cols": {
    "lenName": 16,
    "lenType": 16,
    "lenVar": 40
   },
   "kernels_config": {
    "python": {
     "delete_cmd_postfix": "",
     "delete_cmd_prefix": "del ",
     "library": "var_list.py",
     "varRefreshCmd": "print(var_dic_list())"
    },
    "r": {
     "delete_cmd_postfix": ") ",
     "delete_cmd_prefix": "rm(",
     "library": "var_list.r",
     "varRefreshCmd": "cat(var_dic_list()) "
    }
   },
   "types_to_exclude": [
    "module",
    "function",
    "builtin_function_or_method",
    "instance",
    "_Feature"
   ],
   "window_display": false
  }
 },
 "nbformat": 4,
 "nbformat_minor": 2
}
