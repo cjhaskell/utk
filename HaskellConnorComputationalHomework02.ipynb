{
 "cells": [
  {
   "cell_type": "markdown",
   "metadata": {},
   "source": [
    "# Classical Mechanics I (PHYS 311)\n",
    "## Studio 3"
   ]
  },
  {
   "cell_type": "markdown",
   "metadata": {},
   "source": [
    "*Name:* Connor Haskell\n",
    "\n",
    "*Date:* 9/7/2024"
   ]
  },
  {
   "cell_type": "markdown",
   "metadata": {},
   "source": [
    "## Introduction"
   ]
  },
  {
   "cell_type": "markdown",
   "metadata": {},
   "source": [
    "Today we'll:\n",
    "\n",
    "* start off with a short lecture today to cover some material I wanted to cover on Monday but ran out of time on. \n",
    "* continue to the studio and use a function called `odeint` to solve some differential equations. This will be helpful for the PS if you haven't figured that part out yet.\n",
    "* Next studio will contain some of what we cover in today's lecture.\n",
    "  * (Relevant: https://www.youtube.com/watch?v=mhVbLJvYP8s)"
   ]
  },
  {
   "cell_type": "code",
   "execution_count": 1,
   "metadata": {},
   "outputs": [
    {
     "name": "stdout",
     "output_type": "stream",
     "text": [
      "Populating the interactive namespace from numpy and matplotlib\n"
     ]
    }
   ],
   "source": [
    "%pylab inline"
   ]
  },
  {
   "cell_type": "markdown",
   "metadata": {},
   "source": [
    "As you know, the above line sets us up with a lot of common scientific packages. One thing it sets up for us is `scipy` which is a numerical toolkit built on top of `numpy` containing many useful algorithms for scientific work. It has a sub-package of tools called `scipy.integrate`. We're going to use one of its tools: `odeint`. This is in this week's PS and we'll continue to use this tool in the future.\n",
    "\n",
    "https://docs.scipy.org/doc/scipy/reference/generated/scipy.integrate.odeint.html\n",
    "\n",
    "Definitely refer back to this documentation -- it's **very** helpful. This function allows you to (numerically) solve a system of first-order ODEs of the form:\n",
    "\n",
    "$$\\frac{dy}{dt}=f(y,t)$$"
   ]
  },
  {
   "cell_type": "markdown",
   "metadata": {},
   "source": [
    "### scipy.integrate.odeint"
   ]
  },
  {
   "cell_type": "markdown",
   "metadata": {},
   "source": [
    "Let's import the function `odeint` from the module `scipy.integrate` from the package `scipy`."
   ]
  },
  {
   "cell_type": "code",
   "execution_count": 5,
   "metadata": {},
   "outputs": [],
   "source": [
    "from scipy.integrate import odeint"
   ]
  },
  {
   "cell_type": "markdown",
   "metadata": {},
   "source": [
    "So now we should have access to the `odeint` function. Check out the documentation:"
   ]
  },
  {
   "cell_type": "code",
   "execution_count": 10,
   "metadata": {},
   "outputs": [],
   "source": [
    "?odeint"
   ]
  },
  {
   "cell_type": "markdown",
   "metadata": {},
   "source": [
    "This thing is for solving these first order ODEs. Let's do that. Let's try solving the DE:\n",
    "\n",
    "$$\\dot{y}+y^2=t$$\n",
    "\n",
    "with the boundary condition (BC) that:\n",
    "\n",
    "$$y(t=0)=0$$\n",
    "\n",
    "First we'll need to code up an expression for this ODE."
   ]
  },
  {
   "cell_type": "code",
   "execution_count": 7,
   "metadata": {},
   "outputs": [],
   "source": [
    "def dydt(y,t): #define a function for dy/dt that's dependent on y and t\n",
    "    # We want to return a value for the first derivative of y\n",
    "    # ydot = t-y^2\n",
    "    # So let's return this...\n",
    "    return t-y*y"
   ]
  },
  {
   "cell_type": "markdown",
   "metadata": {},
   "source": [
    "See how that's just a representation of our ODE? Let's see how to use `odeint`. If we go back to the documentation, the way we call it is with three required arguments:\n",
    "\n",
    "1. The function that represents your ODE. It's assumed that you've isolated the derivative to one side, and this function returns the \"other side\" of your ODE. You hand it this function as a \"callable\", so when handing it the function above, you would hand it just `dydt` and not `dydt()` or `dydt(stuff)`.\n",
    "2. The initial condition y0\n",
    "3. Your independent variable t\n",
    "\n",
    "And you'll hand these to `odeint([here], [here], [and here])`.\n",
    "\n",
    "You can hand it (computing, not physics) vectors to handle systems of ODEs, but we'll get to that later.\n",
    "\n",
    "Let's give it an array of `t` values to play with."
   ]
  },
  {
   "cell_type": "code",
   "execution_count": 8,
   "metadata": {},
   "outputs": [],
   "source": [
    "t_array = linspace(0., 100., 10)"
   ]
  },
  {
   "cell_type": "markdown",
   "metadata": {},
   "source": [
    "Remember to try out a `?linspace` and then a `type(t_array)` to get an understanding of what you're creating here. `linspace(A,B,C)` is a function that will create a numpy array for you with numbers between `A` and `B` equally sliced up into `C` numbers. Go ahead -- take a look by printing out what `t_array` has."
   ]
  },
  {
   "cell_type": "code",
   "execution_count": 12,
   "metadata": {},
   "outputs": [],
   "source": [
    "t = t_array"
   ]
  },
  {
   "cell_type": "markdown",
   "metadata": {},
   "source": [
    "So now we have all the ingredients we need. Try to hand this information over to `odeint`! Store the return value of `odeint` as a variable called `y`. Let's start with an initial value for y of `y0=0`."
   ]
  },
  {
   "cell_type": "code",
   "execution_count": 15,
   "metadata": {},
   "outputs": [],
   "source": [
    "y0 = 0\n",
    "y = odeint(dydt, y0, t)"
   ]
  },
  {
   "cell_type": "markdown",
   "metadata": {},
   "source": [
    "Print out the values of `y`. Notice that it has a strange structure. It's an array of arrays, since this thing is capable of solving systems of ODEs. But we only care about the first (and only) element of each top level element."
   ]
  },
  {
   "cell_type": "code",
   "execution_count": 16,
   "metadata": {},
   "outputs": [
    {
     "data": {
      "text/plain": [
       "array([[0.        ],\n",
       "       [3.31043722],\n",
       "       [4.7027271 ],\n",
       "       [5.76597814],\n",
       "       [6.66102974],\n",
       "       [7.44905311],\n",
       "       [8.16121147],\n",
       "       [8.81595382],\n",
       "       [9.42527582],\n",
       "       [9.99749846]])"
      ]
     },
     "execution_count": 16,
     "metadata": {},
     "output_type": "execute_result"
    }
   ],
   "source": [
    "y"
   ]
  },
  {
   "cell_type": "markdown",
   "metadata": {},
   "source": [
    "So our ODE is telling us how `y` changes (the slope) as a function of `t`. So we just need to tell is where `y` starts at `t=0` and then the behavior of `y` itself is fully constrained.\n",
    "\n",
    "Think of these differential equations like a conversation. Imagine I say: \"I'm driving 50 mph due west. Where am I after a half an hour?\" You'd then say \"depends on where you started\" (this is your boundary condition). I reply that I start in downtown Knoxville. Then you know that I'm roughly in Oak Ridge and you can answer the original question.\n",
    "\n",
    "This `y` array is now telling us for each time in `t_array`, what the value of `y` is. Plot `y` as a function of `t_array` to see the behavior. (Recall how to get just the first column of an array of arrays with `[:,0]`.)"
   ]
  },
  {
   "cell_type": "code",
   "execution_count": 19,
   "metadata": {},
   "outputs": [
    {
     "data": {
      "text/plain": [
       "Text(0.5, 0, 't (time)')"
      ]
     },
     "execution_count": 19,
     "metadata": {},
     "output_type": "execute_result"
    },
    {
     "data": {
      "image/png": "[encoded data removed]",
      "text/plain": [
       "<Figure size 432x288 with 1 Axes>"
      ]
     },
     "metadata": {
      "needs_background": "light"
     },
     "output_type": "display_data"
    }
   ],
   "source": [
    "plot(t_array, y)\n",
    "ylabel(\"y (slope)\")\n",
    "xlabel(\"t (time)\")"
   ]
  },
  {
   "cell_type": "markdown",
   "metadata": {},
   "source": [
    "## Second order ODEs"
   ]
  },
  {
   "cell_type": "markdown",
   "metadata": {},
   "source": [
    "As mentioned above, we can also use this `odeint` to solve higher order ODEs, but unfortunately, we can only do so by e.g. expressing a 2nd order ODE as a system of *two* 1st order ODEs.\n",
    "\n",
    "Let's see how to do this with a simple Hooke's law example of the form:\n",
    "\n",
    "$$m\\ddot{x}=-kx$$\n",
    "\n",
    "This means that the only force here is a simple restorative, linear force. When $x$ is positive, the force pushes it to smaller values. When $x$ is negative, the force pushes it to larger values.\n",
    "\n",
    "You'll need to define the velocity `v` as the first derivative of `x`. And then separately, you'll want to tell it the value of the first derivative of `v` (which is of course the acceleration).\n",
    "\n",
    "$$\\frac{dx}{dt}=v$$\n",
    "$$\\frac{dv}{dt}=-kx/m$$"
   ]
  },
  {
   "cell_type": "markdown",
   "metadata": {},
   "source": [
    "`odeint` is expecting to get handed a function that can take a list of inputs, it'll return the value of the differentiated variable. So let's write such a function. (I'll give you a head-start skeleton, but **you have to fill in the missing parts!**)"
   ]
  },
  {
   "cell_type": "code",
   "execution_count": 25,
   "metadata": {},
   "outputs": [],
   "source": [
    "def ode_system(inputs, t, m, k):\n",
    "    # Let's decide from the start that we'll hand this function our `inputs` as [x,v].\n",
    "    # ... That way, we can unpack the values stored in `inputs` with:\n",
    "    \n",
    "    [x, v] = inputs\n",
    "    # ... (or equivalently just `x, v = inputs`)\n",
    "    \n",
    "    # Then we have to return a list of the derivatives. The first element should be an\n",
    "    # ... expression for dx/dt, and the second, an expression for dv/dt.\n",
    "    # ... Notice that m (the mass) and k (the spring strength) are also inputs to this function\n",
    "    return [ v, -k*x/m]"
   ]
  },
  {
   "cell_type": "markdown",
   "metadata": {},
   "source": [
    "Now remember that `odeint` is going to need the initial conditions. So we have to give it a list of initial values for our two variables `x` and `v`. Let's start our system at a displacement of `x=1` and no starting speed. This will be the second argument for `odeint`.\n",
    "\n",
    "And the final required argument for `odeint` is a time axis (or more generally, the independent variable axis). This shouldn't be a list since both ODEs are functions of the same, single independent variable `t`. So you can use `linspace` as above. \n",
    "\n",
    "Finally, we have to somehow tell `odeint` to pass on a values of `m` and `k` to our `ode_system` function. We can do that by handing `odeint` the explicit \"keyword\" argument `args=(m,k)` with whatever values of `m` and `k` you like. These args need to be handed in the form of a python \"tuple\" (denoted with parentheses) which is like a list, but can't change size. Let's store the result in a variable called `solution`.\n",
    "\n",
    "(n.b. in python, keyword arguments must come after the non-keyword arguments.)"
   ]
  },
  {
   "cell_type": "code",
   "execution_count": 26,
   "metadata": {},
   "outputs": [],
   "source": [
    "inputs = [1, 1]\n",
    "m = 1\n",
    "k = 1\n",
    "solution = odeint(ode_system, inputs, t, args=(m,k))"
   ]
  },
  {
   "cell_type": "markdown",
   "metadata": {},
   "source": [
    "Once you have the output of your `odeint` call, **print it out** to understand the structure of it. You should have an array where each element is a mini-array containing the output of your `ode_system` function. So the first element is the position, and the second is the velocity, in this example."
   ]
  },
  {
   "cell_type": "code",
   "execution_count": 27,
   "metadata": {
    "scrolled": true
   },
   "outputs": [
    {
     "data": {
      "text/plain": [
       "array([[ 1.        ,  1.        ],\n",
       "       [-0.87805326,  1.10861301],\n",
       "       [-1.20244402, -0.74439878],\n",
       "       [ 0.6008185 , -1.28024179],\n",
       "       [ 1.34096899,  0.44922689],\n",
       "       [-0.29164532,  1.38381594],\n",
       "       [-1.40821123, -0.1301749 ],\n",
       "       [-0.03303133, -1.41382955],\n",
       "       [ 1.4005961 , -0.19579717],\n",
       "       [ 0.35595234,  1.3686872 ]])"
      ]
     },
     "execution_count": 27,
     "metadata": {},
     "output_type": "execute_result"
    }
   ],
   "source": [
    "solution"
   ]
  },
  {
   "cell_type": "markdown",
   "metadata": {},
   "source": [
    "Recall how to grab just the first or second column from this structure (from last week). And use that to plot the position as a function of time below."
   ]
  },
  {
   "cell_type": "code",
   "execution_count": 30,
   "metadata": {},
   "outputs": [
    {
     "data": {
      "text/plain": [
       "[<matplotlib.lines.Line2D at 0x7f18e0de9ca0>]"
      ]
     },
     "execution_count": 30,
     "metadata": {},
     "output_type": "execute_result"
    },
    {
     "data": {
      "image/png": "[encoded data removed]",
      "text/plain": [
       "<Figure size 432x288 with 1 Axes>"
      ]
     },
     "metadata": {
      "needs_background": "light"
     },
     "output_type": "display_data"
    }
   ],
   "source": [
    "plot(t, solution[:,0])"
   ]
  },
  {
   "cell_type": "markdown",
   "metadata": {},
   "source": [
    "And let's also plot the velocity as a function of time."
   ]
  },
  {
   "cell_type": "code",
   "execution_count": 31,
   "metadata": {},
   "outputs": [
    {
     "data": {
      "text/plain": [
       "[<matplotlib.lines.Line2D at 0x7f18e0dc3940>]"
      ]
     },
     "execution_count": 31,
     "metadata": {},
     "output_type": "execute_result"
    },
    {
     "data": {
      "image/png": "[encoded data removed]",
      "text/plain": [
       "<Figure size 432x288 with 1 Axes>"
      ]
     },
     "metadata": {
      "needs_background": "light"
     },
     "output_type": "display_data"
    }
   ],
   "source": [
    "plot(t, solution[:,1])"
   ]
  },
  {
   "cell_type": "markdown",
   "metadata": {},
   "source": [
    "You should be able to recognize these as the standard harmonic oscillator solutions of a sine wave. That'll be it for today! You'll use this technique in the PS if you haven't already done it.\n",
    "\n",
    "If you've still got time, feel free to go through the extra credit below!"
   ]
  },
  {
   "cell_type": "markdown",
   "metadata": {},
   "source": [
    "**EC(+0.5): Draw both of these results on the same plot. Draw one of them in UT orange. And draw the other with a dashed line. Draw a legend so that it's easy to read. Label the axes correctly.**"
   ]
  },
  {
   "cell_type": "markdown",
   "metadata": {},
   "source": [
    "**EC(+0.5): Calculate and draw the solution for three different values of the spring constant `k`. Again differentiate them in a useful way, and draw a legend that specifies the value of `k` for each. If you know about python `dict`s and looping over lists, this will make the bookkeeping much easier! Some hint code below:**"
   ]
  },
  {
   "cell_type": "code",
   "execution_count": null,
   "metadata": {},
   "outputs": [],
   "source": [
    "solutions = {} # creates a dict. It's like a list, but is \"keyed\" by any object, not just an integer index.\n",
    "for my_k in []: # fill up this list with values of k you'd like to use. And then loop over that list.\n",
    "\n",
    "    # We can create a new object and store it in solutions[key], where key can be anything.\n",
    "    # May as well make it the value of k. That way, it'll be easy to access the result later.\n",
    "\n",
    "    solutions[my_k] = # here, you'll want to put in your odeint call, and hand it your temporary value of k\n",
    "    # Then you can plot the solutions.\n",
    "    "
   ]
  },
  {
   "cell_type": "markdown",
   "metadata": {},
   "source": [
    "**EC(+0.5): Plot a few (at least four) different initial conditions -- both the starting position and velocity (keeping the spring constant the same). What happens if you start at `[x0,v0]=[0,0]`? Using the `dict` structure is super helpful here too! As always, make sure it's clearly labeled on the plot what the values are for each curve.**"
   ]
  },
  {
   "cell_type": "code",
   "execution_count": null,
   "metadata": {},
   "outputs": [],
   "source": []
  }
 ],
 "metadata": {
  "kernelspec": {
   "display_name": "Python 3",
   "language": "python",
   "name": "python3"
  },
  "language_info": {
   "codemirror_mode": {
    "name": "ipython",
    "version": 3
   },
   "file_extension": ".py",
   "mimetype": "text/x-python",
   "name": "python",
   "nbconvert_exporter": "python",
   "pygments_lexer": "ipython3",
   "version": "3.8.8"
  },
  "toc": {
   "base_numbering": 1,
   "nav_menu": {},
   "number_sections": true,
   "sideBar": true,
   "skip_h1_title": false,
   "title_cell": "Table of Contents",
   "title_sidebar": "Contents",
   "toc_cell": false,
   "toc_position": {},
   "toc_section_display": true,
   "toc_window_display": false
  },
  "varInspector": {
   "cols": {
    "lenName": 16,
    "lenType": 16,
    "lenVar": 40
   },
   "kernels_config": {
    "python": {
     "delete_cmd_postfix": "",
     "delete_cmd_prefix": "del ",
     "library": "var_list.py",
     "varRefreshCmd": "print(var_dic_list())"
    },
    "r": {
     "delete_cmd_postfix": ") ",
     "delete_cmd_prefix": "rm(",
     "library": "var_list.r",
     "varRefreshCmd": "cat(var_dic_list()) "
    }
   },
   "types_to_exclude": [
    "module",
    "function",
    "builtin_function_or_method",
    "instance",
    "_Feature"
   ],
   "window_display": false
  }
 },
 "nbformat": 4,
 "nbformat_minor": 2
}
