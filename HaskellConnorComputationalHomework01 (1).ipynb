{
 "cells": [
  {
   "cell_type": "markdown",
   "metadata": {
    "id": "C1BIwa1DKulh"
   },
   "source": [
    "# Classical Mechanics I (PHYS 311)\n",
    "## Studio 1"
   ]
  },
  {
   "cell_type": "markdown",
   "metadata": {
    "id": "CP3ayv9AKulj"
   },
   "source": [
    "*Name:* Connor Haskell\n",
    "\n",
    "*Date:* 8/28/2024"
   ]
  },
  {
   "cell_type": "markdown",
   "metadata": {
    "id": "lC78-SMcKulj"
   },
   "source": [
    "## Introduction"
   ]
  },
  {
   "cell_type": "markdown",
   "metadata": {
    "id": "7WQ1IMEPKulj"
   },
   "source": [
    "Most weeks, we'll have a studio exercise in Python Jupyter Notebooks. I assume you'll have set up your accounts before starting this notebook. (If you haven't done this, please see S0 on Canvas for instructions ASAP!)\n",
    "\n",
    "This week we'll start with some notebook basics and some physics basics.\n",
    "\n",
    "**If you're new to Python**, there will be some resources on Canvas to learn the basics. But we'll take things relatively slow so you can learn as you go. There are many many resources, so make sure to take some time to use them if you're having trouble with Python. (There's even **extra credit** available for going through a python quick start course to build your understanding!)\n",
    "\n",
    "**If you're new to Notebooks**, check out [this link](https://www.dataquest.io/blog/jupyter-notebook-tutorial/). A notebook contains cells that can be executed (by hitting `shift+enter`). This can either execute code (here, Python) if the cell type is `code`. Or if you're trying to write an annotation like this one, set the type of cell to `Markdown`, and type in your Markdown and render it with `shift+enter`.\n",
    "\n",
    "It's very useful to know how to use **Markdown** (md) as it's a text formatting standard these days, adopted by most modern platforms. If you're new to it, check out [Google's guide to Markdown]( https://guides.github.com/features/mastering-markdown/). Here's a handy [Cheatsheet](https://www.markdownguide.org/cheat-sheet/).\n",
    "\n",
    "Double click this cell to see the md source \"code\". You can make things **bold**, _italics_, or make things headings by adding N pound signs at the beginning of a line. There are lists and links available. Take a look at the documentation from GitHub above for more info. Remember to re-render the md using `shift+enter`."
   ]
  },
  {
   "cell_type": "markdown",
   "metadata": {
    "id": "uBrNNkjzKulk"
   },
   "source": [
    "### Basic Setup"
   ]
  },
  {
   "cell_type": "markdown",
   "metadata": {
    "id": "sOP5XP0iKulk"
   },
   "source": [
    "We're going to need a standard set of python tools for scientific work. An easy shorthand for this is the following line. Execute it and you will find that the notebook loads two very important libraries: `numpy` for numerical tools, and `matplotlib` for plotting and visualization. Click the following cell, and execute (`shift+enter`) it."
   ]
  },
  {
   "cell_type": "code",
   "execution_count": 5,
   "metadata": {
    "colab": {
     "base_uri": "https://localhost:8080/"
    },
    "id": "xNeRJ5onKulk",
    "outputId": "e979d723-4cf4-403f-914b-cc3a8d9fe439"
   },
   "outputs": [
    {
     "name": "stdout",
     "output_type": "stream",
     "text": [
      "Populating the interactive namespace from numpy and matplotlib\n"
     ]
    }
   ],
   "source": [
    "%pylab inline"
   ]
  },
  {
   "cell_type": "markdown",
   "metadata": {
    "id": "ddYvRSSyKull"
   },
   "source": [
    "In this class we want to get familiar with Python and Jupyter. First of all familiarize yourself with this notebook. You can enter comments, equations, code, etc. When in a code cell, just hit `enter` to create a new line of code within the same cell. To add a new cell below your current cell, just hit `b` on your keyboard, or navigate through the menus above. Preserve the final code for submission.\n",
    "\n",
    "Try to figure out how to do the following. (Google is your friend!)"
   ]
  },
  {
   "cell_type": "markdown",
   "metadata": {
    "id": "eP11uKi8Kull"
   },
   "source": [
    "### Python as a calculator"
   ]
  },
  {
   "cell_type": "markdown",
   "metadata": {
    "id": "TKm1w8ebKull"
   },
   "source": [
    "1. Calculate 2+2\n",
    "2. Calculate the sin of $\\pi$/2\n",
    "3. Calculate $4.5^4$\n",
    "\n",
    "Compute these below. Make sure the answers to each of these is visible in the output!"
   ]
  },
  {
   "cell_type": "code",
   "execution_count": 3,
   "metadata": {
    "colab": {
     "base_uri": "https://localhost:8080/"
    },
    "id": "wskC8FijKull",
    "outputId": "23a81832-dcb5-4c6d-c4ed-3c052177cde0"
   },
   "outputs": [
    {
     "data": {
      "text/plain": [
       "4"
      ]
     },
     "execution_count": 3,
     "metadata": {},
     "output_type": "execute_result"
    }
   ],
   "source": [
    "2 + 2"
   ]
  },
  {
   "cell_type": "code",
   "execution_count": null,
   "metadata": {
    "colab": {
     "base_uri": "https://localhost:8080/"
    },
    "id": "9r6TVBp0LFdD",
    "outputId": "e622cacc-f2c5-40d0-d779-65735bbcea42"
   },
   "outputs": [
    {
     "data": {
      "text/plain": [
       "1.0"
      ]
     },
     "execution_count": 3,
     "metadata": {},
     "output_type": "execute_result"
    }
   ],
   "source": [
    "sin(pi/2)"
   ]
  },
  {
   "cell_type": "code",
   "execution_count": null,
   "metadata": {
    "colab": {
     "base_uri": "https://localhost:8080/"
    },
    "id": "3dMz4XQ_LJrc",
    "outputId": "25a5dc14-01db-435c-fc53-c6e60341659d"
   },
   "outputs": [
    {
     "data": {
      "text/plain": [
       "410.0625"
      ]
     },
     "execution_count": 4,
     "metadata": {},
     "output_type": "execute_result"
    }
   ],
   "source": [
    "4.5**4"
   ]
  },
  {
   "cell_type": "markdown",
   "metadata": {
    "id": "VBUWU1RiKulm"
   },
   "source": [
    "### Storing information in variables / types"
   ]
  },
  {
   "cell_type": "markdown",
   "metadata": {
    "id": "v9UowlvOKulm"
   },
   "source": [
    "Python is not a strongly typed programming language -- this is often very convenient but can be dangerous! If you're familiar with C/C++, this will feel pretty different."
   ]
  },
  {
   "cell_type": "code",
   "execution_count": null,
   "metadata": {
    "id": "edNIkbtEKulm"
   },
   "outputs": [],
   "source": [
    "a='boom'\n",
    "b='bap'"
   ]
  },
  {
   "cell_type": "code",
   "execution_count": null,
   "metadata": {
    "colab": {
     "base_uri": "https://localhost:8080/"
    },
    "id": "Lh05ulrXKulm",
    "outputId": "e6e5f5bc-3d82-4a52-9b99-2a9c36a218a7"
   },
   "outputs": [
    {
     "name": "stdout",
     "output_type": "stream",
     "text": [
      "<class 'str'> <class 'str'>\n"
     ]
    }
   ],
   "source": [
    "print( type(a), type(b) )"
   ]
  },
  {
   "cell_type": "markdown",
   "metadata": {
    "id": "OnLMJHjOKulm"
   },
   "source": [
    "So we can see that python has infered that you wanted `a` and `b` to be `str` (string) objects without you ever having to say it explicitly. You can imagine how this may be dangerous at times."
   ]
  },
  {
   "cell_type": "markdown",
   "metadata": {
    "id": "Uz1COie7Kulm"
   },
   "source": [
    "To get documentation for anything in this notebook, just put a question mark in front of it. To learn what `type` does, do the following:"
   ]
  },
  {
   "cell_type": "code",
   "execution_count": null,
   "metadata": {
    "id": "o4vKzMfxKulm"
   },
   "outputs": [],
   "source": [
    "?type"
   ]
  },
  {
   "cell_type": "markdown",
   "metadata": {
    "id": "odH4buIAKuln"
   },
   "source": [
    "`a` and `b` both contain `str` objects now. Try concatenating them with the `+` operator:"
   ]
  },
  {
   "cell_type": "code",
   "execution_count": null,
   "metadata": {
    "colab": {
     "base_uri": "https://localhost:8080/",
     "height": 35
    },
    "id": "YCzohGFVKuln",
    "outputId": "733a82e7-0415-4c96-fc49-95fe43cee5a9"
   },
   "outputs": [
    {
     "data": {
      "application/vnd.google.colaboratory.intrinsic+json": {
       "type": "string"
      },
      "text/plain": [
       "'boombap'"
      ]
     },
     "execution_count": 7,
     "metadata": {},
     "output_type": "execute_result"
    }
   ],
   "source": [
    "a+b"
   ]
  },
  {
   "cell_type": "markdown",
   "metadata": {
    "id": "gXUZh5ILKuln"
   },
   "source": [
    "Let's try storing some numbers now:"
   ]
  },
  {
   "cell_type": "code",
   "execution_count": null,
   "metadata": {
    "id": "d2BJXpB8Kuln"
   },
   "outputs": [],
   "source": [
    "c=2\n",
    "d=2."
   ]
  },
  {
   "cell_type": "markdown",
   "metadata": {
    "id": "Gp75NodXKuln"
   },
   "source": [
    "What are the types of the variables `c` and `d`? Notice that we're in Python 3 (look in the upper right of your window to see the Kernel name). If you're interested, you can learn about some of the differences between Python 2 and 3 w.r.t. how these types are handled."
   ]
  },
  {
   "cell_type": "code",
   "execution_count": null,
   "metadata": {
    "colab": {
     "base_uri": "https://localhost:8080/"
    },
    "id": "AB3vhAm3Kuln",
    "outputId": "a594dee5-098e-4d9e-b523-369e2d787c6c"
   },
   "outputs": [
    {
     "name": "stdout",
     "output_type": "stream",
     "text": [
      "<class 'int'> <class 'float'>\n"
     ]
    }
   ],
   "source": [
    "print( type(c), type(d) )"
   ]
  },
  {
   "cell_type": "markdown",
   "metadata": {
    "id": "eG5tNS38Kuln"
   },
   "source": [
    "The first thing we should have gone over is how to add a comment in python. Whenever there is a pound sign, `#` in your python, everything after this symbol is not processed and is a comment. **Comments are very important** when writing code -- both for communicating to others the purpose of the code, and for you to understand your code later, but also from a design perspective, they are crucial for effectively organizing your code."
   ]
  },
  {
   "cell_type": "code",
   "execution_count": null,
   "metadata": {
    "id": "aX-0bp_zKuln"
   },
   "outputs": [],
   "source": [
    "a = \"This line isn't commented\" #but this stuff is\n",
    "# And so is this whole line!"
   ]
  },
  {
   "cell_type": "markdown",
   "metadata": {
    "id": "DceOLUkEKulo"
   },
   "source": [
    "### Lists and Arrays"
   ]
  },
  {
   "cell_type": "code",
   "execution_count": 4,
   "metadata": {
    "colab": {
     "base_uri": "https://localhost:8080/"
    },
    "id": "0RZE_bXlKulo",
    "outputId": "be6a2642-4345-4fe5-ed04-7c6abbdb4f88"
   },
   "outputs": [
    {
     "name": "stdout",
     "output_type": "stream",
     "text": [
      "Populating the interactive namespace from numpy and matplotlib\n"
     ]
    }
   ],
   "source": [
    "%pylab inline"
   ]
  },
  {
   "cell_type": "markdown",
   "metadata": {
    "id": "hCm7iplFKulo"
   },
   "source": [
    "We can store multiple objects in a list in python."
   ]
  },
  {
   "cell_type": "code",
   "execution_count": null,
   "metadata": {
    "colab": {
     "base_uri": "https://localhost:8080/"
    },
    "id": "yCtwaom1Kulo",
    "outputId": "671c4656-f2a7-4d5b-a4b4-b06a35520b40"
   },
   "outputs": [
    {
     "name": "stdout",
     "output_type": "stream",
     "text": [
      "3\n"
     ]
    }
   ],
   "source": [
    "myList=[3,1,4,1,5,9]\n",
    "print(myList[0]) # this will print out the first element of myList"
   ]
  },
  {
   "cell_type": "markdown",
   "metadata": {
    "id": "GgVzUHMWKulo"
   },
   "source": [
    "Access and print the last element of the list `myList`. Can you figure out a way to do this without a priori knowing how long the list is? (Google is your friend!)"
   ]
  },
  {
   "cell_type": "code",
   "execution_count": null,
   "metadata": {
    "colab": {
     "base_uri": "https://localhost:8080/"
    },
    "id": "6a6CC6auKulo",
    "outputId": "bc983a1f-7bb0-49d4-fe41-649ad743e19d"
   },
   "outputs": [
    {
     "data": {
      "text/plain": [
       "9"
      ]
     },
     "execution_count": 14,
     "metadata": {},
     "output_type": "execute_result"
    }
   ],
   "source": [
    "myList[len(myList) - 1]"
   ]
  },
  {
   "cell_type": "markdown",
   "metadata": {
    "id": "7Snvr4WEKulo"
   },
   "source": [
    "Now set it to another number and then print out the entire object `myList`."
   ]
  },
  {
   "cell_type": "code",
   "execution_count": null,
   "metadata": {
    "colab": {
     "base_uri": "https://localhost:8080/"
    },
    "id": "PhGzE3pMKulp",
    "outputId": "53c4c632-7db7-4171-fb76-9778834640cf"
   },
   "outputs": [
    {
     "name": "stdout",
     "output_type": "stream",
     "text": [
      "[5, 1, 4, 1, 5, 5]\n"
     ]
    }
   ],
   "source": [
    "myList[5] = 5\n",
    "print(myList)"
   ]
  },
  {
   "cell_type": "markdown",
   "metadata": {
    "id": "vWlsc5H2Kulp"
   },
   "source": [
    "What is the type of `myList`?"
   ]
  },
  {
   "cell_type": "code",
   "execution_count": null,
   "metadata": {
    "colab": {
     "base_uri": "https://localhost:8080/"
    },
    "id": "xKdWhX4NKulp",
    "outputId": "facdb303-53b6-4b73-e71f-55b9e8193542"
   },
   "outputs": [
    {
     "name": "stdout",
     "output_type": "stream",
     "text": [
      "<class 'list'>\n"
     ]
    }
   ],
   "source": [
    "print( type(myList) )"
   ]
  },
  {
   "cell_type": "markdown",
   "metadata": {
    "id": "DlQmh_CqKulp"
   },
   "source": [
    "There is a very similar structure given by `numpy` called the `ndarray` which is an array type. We'll see it shortly."
   ]
  },
  {
   "cell_type": "markdown",
   "metadata": {
    "id": "MChcnsXLKulp"
   },
   "source": [
    "### Plotting data"
   ]
  },
  {
   "cell_type": "markdown",
   "metadata": {
    "id": "2CR4HP4rKulp"
   },
   "source": [
    "We are loading some libraries that will let us plot things and that will let us do more complicated mathematical things."
   ]
  },
  {
   "cell_type": "code",
   "execution_count": 3,
   "metadata": {
    "colab": {
     "base_uri": "https://localhost:8080/"
    },
    "id": "M0C_pD-MKulu",
    "outputId": "33053956-6a23-470a-e631-0b4db4414f87"
   },
   "outputs": [
    {
     "name": "stdout",
     "output_type": "stream",
     "text": [
      "Populating the interactive namespace from numpy and matplotlib\n"
     ]
    }
   ],
   "source": [
    "%pylab inline"
   ]
  },
  {
   "cell_type": "markdown",
   "metadata": {
    "id": "24FWG9K1Kulu"
   },
   "source": [
    "In python, we plot data points. That means that we need to generate 2 vectors of equal length. One contains the x-values and the second one the y-values."
   ]
  },
  {
   "cell_type": "code",
   "execution_count": null,
   "metadata": {
    "colab": {
     "base_uri": "https://localhost:8080/"
    },
    "id": "WwpR-eTgKulu",
    "outputId": "e1707183-2a97-449c-c29d-c297abaa2d40"
   },
   "outputs": [
    {
     "data": {
      "text/plain": [
       "[1, 2, 3, 4, 5, 6, 7, 8, 9]"
      ]
     },
     "execution_count": 20,
     "metadata": {},
     "output_type": "execute_result"
    }
   ],
   "source": [
    "vector_list = list( range(1, 10, 1) )\n",
    "vector_list"
   ]
  },
  {
   "cell_type": "code",
   "execution_count": null,
   "metadata": {
    "id": "dotL_Uk5Kulu"
   },
   "outputs": [],
   "source": [
    "?range"
   ]
  },
  {
   "cell_type": "code",
   "execution_count": null,
   "metadata": {
    "colab": {
     "base_uri": "https://localhost:8080/"
    },
    "id": "LEWF3HuLKulu",
    "outputId": "ca832c4e-9695-45a2-d248-97c51a743efe"
   },
   "outputs": [
    {
     "data": {
      "text/plain": [
       "array([1, 2, 3, 4, 5, 6, 7, 8, 9])"
      ]
     },
     "execution_count": 21,
     "metadata": {},
     "output_type": "execute_result"
    }
   ],
   "source": [
    "vector_array = arange(1, 10, 1)\n",
    "vector_array"
   ]
  },
  {
   "cell_type": "code",
   "execution_count": null,
   "metadata": {
    "id": "4HRmGBfAKulu"
   },
   "outputs": [],
   "source": [
    "?arange"
   ]
  },
  {
   "cell_type": "markdown",
   "metadata": {
    "id": "1iBYMce7Kulv"
   },
   "source": [
    "Now we're going to create a custom python function to represent the function we'd like to plot."
   ]
  },
  {
   "cell_type": "code",
   "execution_count": null,
   "metadata": {
    "id": "6MgNx1uiKulv"
   },
   "outputs": [],
   "source": [
    "def squared(x):\n",
    "    squared = x*x\n",
    "    return squared"
   ]
  },
  {
   "cell_type": "markdown",
   "metadata": {
    "id": "pW5xwPxxKulv"
   },
   "source": [
    "You can now use this function `squared()` to square things! Give it a shot by squaring some number:"
   ]
  },
  {
   "cell_type": "code",
   "execution_count": null,
   "metadata": {
    "colab": {
     "base_uri": "https://localhost:8080/"
    },
    "id": "CSm6Opy4Kulv",
    "outputId": "d56a987d-6de4-48d2-8739-40b28e434e71"
   },
   "outputs": [
    {
     "data": {
      "text/plain": [
       "25"
      ]
     },
     "execution_count": 23,
     "metadata": {},
     "output_type": "execute_result"
    }
   ],
   "source": [
    "squared(5)"
   ]
  },
  {
   "cell_type": "markdown",
   "metadata": {
    "id": "eD8rrxaBKulv"
   },
   "source": [
    "Now we're about to see a crucial difference between python's built-in `list` type and `numpy`'s more powerful `ndarray`. What happens when you try to feed `vector_list` into this new function? What about when you hand it `vector_array`? Find something that works and store it in a new variable."
   ]
  },
  {
   "cell_type": "code",
   "execution_count": null,
   "metadata": {
    "colab": {
     "base_uri": "https://localhost:8080/",
     "height": 233
    },
    "id": "ddBI-YYaKulv",
    "outputId": "b9faf0e9-203f-49a7-fea7-4e1cfee369f2"
   },
   "outputs": [
    {
     "ename": "TypeError",
     "evalue": "can't multiply sequence by non-int of type 'list'",
     "output_type": "error",
     "traceback": [
      "\u001b[0;31m---------------------------------------------------------------------------\u001b[0m",
      "\u001b[0;31mTypeError\u001b[0m                                 Traceback (most recent call last)",
      "\u001b[0;32m<ipython-input-24-7a5571f72bf3>\u001b[0m in \u001b[0;36m<cell line: 1>\u001b[0;34m()\u001b[0m\n\u001b[0;32m----> 1\u001b[0;31m \u001b[0msquared\u001b[0m\u001b[0;34m(\u001b[0m\u001b[0mvector_list\u001b[0m\u001b[0;34m)\u001b[0m\u001b[0;34m\u001b[0m\u001b[0;34m\u001b[0m\u001b[0m\n\u001b[0m",
      "\u001b[0;32m<ipython-input-22-246008e7f0dd>\u001b[0m in \u001b[0;36msquared\u001b[0;34m(x)\u001b[0m\n\u001b[1;32m      1\u001b[0m \u001b[0;32mdef\u001b[0m \u001b[0msquared\u001b[0m\u001b[0;34m(\u001b[0m\u001b[0mx\u001b[0m\u001b[0;34m)\u001b[0m\u001b[0;34m:\u001b[0m\u001b[0;34m\u001b[0m\u001b[0;34m\u001b[0m\u001b[0m\n\u001b[0;32m----> 2\u001b[0;31m     \u001b[0msquared\u001b[0m \u001b[0;34m=\u001b[0m \u001b[0mx\u001b[0m\u001b[0;34m*\u001b[0m\u001b[0mx\u001b[0m\u001b[0;34m\u001b[0m\u001b[0;34m\u001b[0m\u001b[0m\n\u001b[0m\u001b[1;32m      3\u001b[0m     \u001b[0;32mreturn\u001b[0m \u001b[0msquared\u001b[0m\u001b[0;34m\u001b[0m\u001b[0;34m\u001b[0m\u001b[0m\n",
      "\u001b[0;31mTypeError\u001b[0m: can't multiply sequence by non-int of type 'list'"
     ]
    }
   ],
   "source": [
    "squared(vector_list)"
   ]
  },
  {
   "cell_type": "code",
   "execution_count": null,
   "metadata": {
    "colab": {
     "base_uri": "https://localhost:8080/"
    },
    "id": "jCXt-NeoL25R",
    "outputId": "1f00b55d-7433-4309-d48e-02af4952f4d2"
   },
   "outputs": [
    {
     "data": {
      "text/plain": [
       "array([ 1,  4,  9, 16, 25, 36, 49, 64, 81])"
      ]
     },
     "execution_count": 25,
     "metadata": {},
     "output_type": "execute_result"
    }
   ],
   "source": [
    "squared(vector_array)"
   ]
  },
  {
   "cell_type": "markdown",
   "metadata": {
    "id": "K5nSd2L3Kulv"
   },
   "source": [
    "We can quickly plot the data points you've just calculated with the `plot` command (provided by pylab). Remember to use `?plot` for more information. Basically, you want to run `plot(x,y)` where your `x` and `y` are array objects (or can be list objects in principle). An optional third argument takes a string that defines the draw style. Try out using `o-` for a circle at each point and a line conecting the points.\n",
    "\n",
    "Don't forget to label your axes. Always always always label axes!!! In the same cell as your plot command, try out the `xlabel()` and `ylabel()` commands.\n",
    "\n",
    "Remember that we're looking for a plot of f(x) on the y axis, and x on the x axis. How should you call the `plot()` function here?"
   ]
  },
  {
   "cell_type": "code",
   "execution_count": null,
   "metadata": {
    "colab": {
     "base_uri": "https://localhost:8080/",
     "height": 467
    },
    "id": "aCpqVqBAKulv",
    "outputId": "25652d02-45bd-4d14-c815-f32a78fca7aa"
   },
   "outputs": [
    {
     "data": {
      "text/plain": [
       "Text(0, 0.5, 'y')"
      ]
     },
     "execution_count": 36,
     "metadata": {},
     "output_type": "execute_result"
    },
    {
     "data": {
      "image/png": "[encoded data removed]",
      "text/plain": [
       "<Figure size 640x480 with 1 Axes>"
      ]
     },
     "metadata": {},
     "output_type": "display_data"
    }
   ],
   "source": [
    "vector_sqrd = squared(vector_array)\n",
    "plot(vector_array, vector_sqrd, \"o-\")\n",
    "xlabel(\"x\")\n",
    "ylabel(\"y\")"
   ]
  },
  {
   "cell_type": "markdown",
   "metadata": {
    "id": "6B7QHPwmKulv"
   },
   "source": [
    "Now go ahead and make a new function that computes the sine of the input, and plot it! (Careful with what you call your new function to make sure it doesn't clash with other already-defined functions!)"
   ]
  },
  {
   "cell_type": "code",
   "execution_count": null,
   "metadata": {
    "colab": {
     "base_uri": "https://localhost:8080/",
     "height": 467
    },
    "id": "FaDTC3dSKulw",
    "outputId": "2401f345-cea6-4a5c-d3dc-3c7127f93b61"
   },
   "outputs": [
    {
     "data": {
      "text/plain": [
       "Text(0, 0.5, 'y')"
      ]
     },
     "execution_count": 37,
     "metadata": {},
     "output_type": "execute_result"
    },
    {
     "data": {
      "image/png": "[encoded data removed]",
      "text/plain": [
       "<Figure size 640x480 with 1 Axes>"
      ]
     },
     "metadata": {},
     "output_type": "display_data"
    }
   ],
   "source": [
    "def sine (x):\n",
    "  sine = sin(x)\n",
    "  return sine\n",
    "vector_sine = sine(vector_array)\n",
    "plot(vector_array, vector_sine, \"o-\")\n",
    "xlabel(\"x\")\n",
    "ylabel(\"y\")"
   ]
  },
  {
   "cell_type": "markdown",
   "metadata": {
    "collapsed": true,
    "id": "1GNBzuOlKulw"
   },
   "source": [
    "Notice that our sampling is quite low (only 10 points). Try playing around to get these functions samples with 100 points to get a higher resolution representation of these functions.\n",
    "\n",
    "Search the `matplotlib` manual and figure out more ways to plot the data. Add a title to the figure!"
   ]
  },
  {
   "cell_type": "markdown",
   "metadata": {
    "id": "XW3vu_XiKulw"
   },
   "source": [
    "**EC(+0.5) [\"For +0.5 extra credit -- feel free to skip!\"]: Add a cell below this and plot three different functions on the same axis with three different line styles. Make sure to label your axes and draw a legend!**"
   ]
  },
  {
   "cell_type": "markdown",
   "metadata": {
    "id": "pX0BOiFNKulw"
   },
   "source": [
    "### Defining a function"
   ]
  },
  {
   "cell_type": "markdown",
   "metadata": {
    "id": "MBzsdeDiKulw"
   },
   "source": [
    "Define your own function that converts Fahrenheit into Celsius and show that it works for a few input values."
   ]
  },
  {
   "cell_type": "code",
   "execution_count": null,
   "metadata": {
    "colab": {
     "base_uri": "https://localhost:8080/"
    },
    "id": "DoCYw2S9Kulw",
    "outputId": "946f1b27-c832-495a-b38c-72ed482a8524"
   },
   "outputs": [
    {
     "name": "stdout",
     "output_type": "stream",
     "text": [
      "32.0\n",
      "113.0\n",
      "194.0\n"
     ]
    }
   ],
   "source": [
    "def FtoC(x):\n",
    "    fahrenheit = (x * 9/5) + 32\n",
    "    return fahrenheit\n",
    "print(FtoC(0))\n",
    "print(FtoC(45))\n",
    "print(FtoC(90))"
   ]
  },
  {
   "cell_type": "markdown",
   "metadata": {
    "id": "pYAfmVqsKulw"
   },
   "source": [
    "### Conditionals"
   ]
  },
  {
   "cell_type": "markdown",
   "metadata": {
    "id": "HCxGFw9CKulw"
   },
   "source": [
    "There are various ways of steering the logic of a program. Remember that fundamentally, a program executes in a logical order. Normally if you were writing a script from scratch, you would read the logic from top to bottom. Notebooks violate this a little bit and allow you to execute things in strange orders, but you should try to organize your thoughts from top to bottom.\n",
    "\n",
    "Let's start with a simple `if` statement. The syntax for such statements is pretty particular in python."
   ]
  },
  {
   "cell_type": "code",
   "execution_count": null,
   "metadata": {
    "id": "MNJtLkydKulw"
   },
   "outputs": [],
   "source": [
    "a = True\n",
    "aIsTrue = False\n",
    "if a == True:\n",
    "    aIsTrue = True"
   ]
  },
  {
   "cell_type": "markdown",
   "metadata": {
    "id": "gzEI5qd0Kulx"
   },
   "source": [
    "Note the whitespace that represents being \"inside\" the `if` statement. Here it's four spaces (and that was acheived by just hitting `tab` on your keyboard). Python doesn't actually care how much whitespace there is, but it *does* care that you stay consistent with your indentation levels."
   ]
  },
  {
   "cell_type": "markdown",
   "metadata": {
    "id": "uBzsP3QfKulx"
   },
   "source": [
    "You can also ask about the alternative with `else`, or even additional alternate scenarios with intermediate `elif` commands. (You may be familiar with `else if` in C/C++, but python has a specific symbol for this command.)"
   ]
  },
  {
   "cell_type": "code",
   "execution_count": null,
   "metadata": {
    "colab": {
     "base_uri": "https://localhost:8080/"
    },
    "id": "v285efk8Kulx",
    "outputId": "e99068c8-571a-4c32-c430-39ac19021fe4"
   },
   "outputs": [
    {
     "name": "stdout",
     "output_type": "stream",
     "text": [
      "a is zero\n"
     ]
    }
   ],
   "source": [
    "a = 0\n",
    "if a > 0:\n",
    "    description = \"positive\"\n",
    "elif a < 0:\n",
    "    description = \"negative\"\n",
    "else:\n",
    "    description = \"zero\"\n",
    "print(\"a is \" + description)"
   ]
  },
  {
   "cell_type": "markdown",
   "metadata": {
    "id": "CrGoBm0lKulx"
   },
   "source": [
    "Write a quick function to take in a number grade that returns a string containing the appropriate letter grade A,B,C,D, or F, using the standard grade boundaries. And then test it with a grade. This will be your final course grade. (No - not really.)"
   ]
  },
  {
   "cell_type": "code",
   "execution_count": null,
   "metadata": {
    "colab": {
     "base_uri": "https://localhost:8080/"
    },
    "id": "PAAuEH_nKulx",
    "outputId": "ea4b653c-af1d-4ab9-fdcf-33ede3b85d6f"
   },
   "outputs": [
    {
     "name": "stdout",
     "output_type": "stream",
     "text": [
      "letter grade is an A\n",
      "letter grade is an B\n",
      "letter grade is an C\n",
      "letter grade is an D\n",
      "letter grade is an F\n"
     ]
    }
   ],
   "source": [
    "def grade(x):\n",
    "    if x <= 2.9:\n",
    "        if x <= 0.9:\n",
    "            letter_grade = \"F\"\n",
    "        elif x >= 1 and x <= 1.9:\n",
    "            letter_grade = \"D\"\n",
    "        else:\n",
    "            letter_grade = \"C\"\n",
    "    elif x <= 4:\n",
    "        if x  >= 3 and x <= 3.9:\n",
    "            letter_grade = \"B\"\n",
    "        elif x >= 3 and x <= 4:\n",
    "            letter_grade = \"A\"\n",
    "    print(\"letter grade is an \" + letter_grade)\n",
    "\n",
    "grade(4)\n",
    "grade(3.6)\n",
    "grade(2.5)\n",
    "grade(1.7)\n",
    "grade(0.8)"
   ]
  },
  {
   "cell_type": "markdown",
   "metadata": {
    "id": "uvZcaH4uKulx"
   },
   "source": [
    "### Loops"
   ]
  },
  {
   "cell_type": "markdown",
   "metadata": {
    "id": "Uh9R9LdGKulx"
   },
   "source": [
    "#### The for-loop"
   ]
  },
  {
   "cell_type": "markdown",
   "metadata": {
    "id": "BgVC3-wLKulx"
   },
   "source": [
    "There are two ways to make the computer do things repeatedly. The first one we will discuss is the for-loop."
   ]
  },
  {
   "cell_type": "code",
   "execution_count": null,
   "metadata": {
    "id": "4d9WPkzyKulx"
   },
   "outputs": [],
   "source": [
    "vector1 = arange(1,10,0.5)\n",
    "vector2 = arange(1,10,0.5)\n",
    "for i in range(len(vector1)):\n",
    "    vector2[i] = vector1[i]*vector1[i]"
   ]
  },
  {
   "cell_type": "code",
   "execution_count": null,
   "metadata": {
    "colab": {
     "base_uri": "https://localhost:8080/",
     "height": 448
    },
    "id": "DMhd1k6oKuly",
    "outputId": "b38935b0-2c6f-417c-fb9b-a28d2ea057d6"
   },
   "outputs": [
    {
     "data": {
      "text/plain": [
       "[<matplotlib.lines.Line2D at 0x7f2a94c44ac0>]"
      ]
     },
     "execution_count": 44,
     "metadata": {},
     "output_type": "execute_result"
    },
    {
     "data": {
      "image/png": "[encoded data removed]",
      "text/plain": [
       "<Figure size 640x480 with 1 Axes>"
      ]
     },
     "metadata": {},
     "output_type": "display_data"
    }
   ],
   "source": [
    "plot(vector1,vector2)"
   ]
  },
  {
   "cell_type": "markdown",
   "metadata": {
    "id": "OjvEn9h6Kuly"
   },
   "source": [
    "#### The while loop"
   ]
  },
  {
   "cell_type": "markdown",
   "metadata": {
    "id": "RtowHe12Kuly"
   },
   "source": [
    "Look it up. It's a dangerous loop. We hopefully won't need it in this class, but it's important for you to know about. Essentially it repeats its contents until it's argument is false. (Just like in other languages.)"
   ]
  },
  {
   "cell_type": "markdown",
   "metadata": {
    "id": "-pAU1HGFKuly"
   },
   "source": [
    "### Reading data"
   ]
  },
  {
   "cell_type": "markdown",
   "metadata": {
    "id": "9riJ9vMkKuly"
   },
   "source": [
    "Download the data file 'http://folk.uio.no/malthe/mechbook/100m.d ' and copy into the variable `data`. I suggest that you make an extra folder in your home directory called `data` and put this file in there. You'll use the `loadtxt` function which you should give the path to this new file relative to the location of this notebook."
   ]
  },
  {
   "cell_type": "code",
   "execution_count": 1,
   "metadata": {
    "colab": {
     "base_uri": "https://localhost:8080/"
    },
    "id": "aPpCN2m_NyHb",
    "outputId": "99b6d81a-3b7b-4056-860e-d2252f7b0ef5"
   },
   "outputs": [
    {
     "name": "stdout",
     "output_type": "stream",
     "text": [
      "/nfs/home/chaskel1/Studios_2\n"
     ]
    }
   ],
   "source": [
    "import os\n",
    "print(os.getcwd())\n"
   ]
  },
  {
   "cell_type": "code",
   "execution_count": 7,
   "metadata": {
    "colab": {
     "base_uri": "https://localhost:8080/",
     "height": 311
    },
    "id": "mv3E9qd6Kuly",
    "outputId": "fc1eb676-e4d3-4bcd-d18b-6e856a84015c"
   },
   "outputs": [],
   "source": [
    "data = loadtxt('/nfs/home/chaskel1/data/100m.txt')"
   ]
  },
  {
   "cell_type": "code",
   "execution_count": 8,
   "metadata": {
    "colab": {
     "base_uri": "https://localhost:8080/",
     "height": 144
    },
    "id": "9P7HxzghKuly",
    "outputId": "38109c58-e576-4f05-d310-edc923c34b6f"
   },
   "outputs": [
    {
     "data": {
      "text/plain": [
       "array([[ 0.0000000e+00, -2.1155775e-01],\n",
       "       [ 1.0000000e-02, -1.7485406e-01],\n",
       "       [ 2.0000000e-02, -1.3798607e-01],\n",
       "       ...,\n",
       "       [ 9.6800000e+00,  9.9487543e+01],\n",
       "       [ 9.6900000e+00,  9.9573488e+01],\n",
       "       [ 9.7000000e+00,  9.9659050e+01]])"
      ]
     },
     "execution_count": 8,
     "metadata": {},
     "output_type": "execute_result"
    }
   ],
   "source": [
    "data"
   ]
  },
  {
   "cell_type": "markdown",
   "metadata": {
    "id": "t4zdPxbcKuly"
   },
   "source": [
    "Explore the data variable that you generated. How many data points are in this file?"
   ]
  },
  {
   "cell_type": "code",
   "execution_count": 9,
   "metadata": {
    "colab": {
     "base_uri": "https://localhost:8080/"
    },
    "id": "GHsLur2ZKulz",
    "outputId": "c3b34aab-f843-42fa-ef5c-cd078e841dcf"
   },
   "outputs": [
    {
     "data": {
      "text/plain": [
       "971"
      ]
     },
     "execution_count": 9,
     "metadata": {},
     "output_type": "execute_result"
    }
   ],
   "source": [
    "len(data)"
   ]
  },
  {
   "cell_type": "markdown",
   "metadata": {
    "id": "WgNtPz6zKulz"
   },
   "source": [
    "Now it's important to know how to access different elements of an array like this. Here we have $N$ elements (where $N$ is the answer directly above) of our dataset, with each element being an array of two numbers. If I want to only take the first 10 elements, I can use the notation `data[0:10]` and that returns the subset. I could have also left the `0` implicit with just a `data[:10]`. If you want from the 10th element to the end, you could do `data[10:len(data)]`. Again you could have left the end implicit and it would have gone to the end with `data[10:]`. Try it -- get the 10th through 20th element (including the 20th) of this array:"
   ]
  },
  {
   "cell_type": "code",
   "execution_count": 16,
   "metadata": {
    "id": "MMsYtVk6Kulz"
   },
   "outputs": [
    {
     "data": {
      "text/plain": [
       "array([[0.1       , 0.16296172],\n",
       "       [0.11      , 0.20134194],\n",
       "       [0.12      , 0.23989394],\n",
       "       [0.13      , 0.27861852],\n",
       "       [0.14      , 0.31751645],\n",
       "       [0.15      , 0.3565885 ],\n",
       "       [0.16      , 0.39583542],\n",
       "       [0.17      , 0.435258  ],\n",
       "       [0.18      , 0.47485702],\n",
       "       [0.19      , 0.51463331],\n",
       "       [0.2       , 0.5545876 ]])"
      ]
     },
     "execution_count": 16,
     "metadata": {},
     "output_type": "execute_result"
    }
   ],
   "source": [
    "data[10:21]"
   ]
  },
  {
   "cell_type": "markdown",
   "metadata": {
    "id": "GOKAGmMrKulz"
   },
   "source": [
    "You should have 11 elements in this array. Do you? If not, try again."
   ]
  },
  {
   "cell_type": "markdown",
   "metadata": {
    "id": "GVirqnD2Kulz"
   },
   "source": [
    "You might say -- \"Oh but how do I deal with the internal array contained in each element?\" and that would be very astute of you. Luckily for you and for us all (I'm getting loopy because it's a Friday night) `numpy` gives a handy way of accessing this with a comma.\n",
    "\n",
    "If I want an array with just the first number in the first ten elements of `data`, I could do `data[:10,0]`. Give it a shot! I can also ask for the first element of all of the elements: `data[:,0]` (here leaving both the start and end of the first index implicit).\n",
    "\n",
    "Just to be explicit, `data[:10,0]` (or equally `data[0:10,0]`) would mean \"take the first 11 elements of `data`, each of which is another array, then only give me the first element of each of *those*\". The output should be an 11-element 1D array, whereas the input is a 2D array (it needs two indices to get to a single value).\n",
    "\n",
    "Below, get an array containing just the second number in each of these data points:"
   ]
  },
  {
   "cell_type": "code",
   "execution_count": 20,
   "metadata": {
    "id": "mzbM65lbKulz"
   },
   "outputs": [
    {
     "data": {
      "text/plain": [
       "array([-2.1155775e-01, -1.7485406e-01, -1.3798607e-01, -1.0095306e-01,\n",
       "       -6.3754256e-02, -2.6388915e-02,  1.1143680e-02,  4.8844275e-02,\n",
       "        8.6713636e-02,  1.2475253e-01,  1.6296172e-01,  2.0134194e-01,\n",
       "        2.3989394e-01,  2.7861852e-01,  3.1751645e-01,  3.5658850e-01,\n",
       "        3.9583542e-01,  4.3525800e-01,  4.7485702e-01,  5.1463331e-01,\n",
       "        5.5458760e-01,  5.9472068e-01,  6.3503336e-01,  6.7552646e-01,\n",
       "        7.1620077e-01,  7.5705706e-01,  7.9809615e-01,  8.3931885e-01,\n",
       "        8.8072599e-01,  9.2231839e-01,  9.6409682e-01,  1.0060621e+00,\n",
       "        1.0482151e+00,  1.0905567e+00,  1.1330876e+00,  1.1758087e+00,\n",
       "        1.2187208e+00,  1.2618248e+00,  1.3051215e+00,  1.3486118e+00,\n",
       "        1.3922964e+00,  1.4361762e+00,  1.4802521e+00,  1.5245250e+00,\n",
       "        1.5689956e+00,  1.6136648e+00,  1.6585335e+00,  1.7036026e+00,\n",
       "        1.7488728e+00,  1.7943450e+00,  1.8400202e+00,  1.8858991e+00,\n",
       "        1.9319827e+00,  1.9782718e+00,  2.0247672e+00,  2.0714698e+00,\n",
       "        2.1183805e+00,  2.1655003e+00,  2.2128299e+00,  2.2603702e+00,\n",
       "        2.3081220e+00,  2.3560864e+00,  2.4042642e+00,  2.4526562e+00,\n",
       "        2.5012632e+00,  2.5500863e+00,  2.5991263e+00,  2.6483841e+00,\n",
       "        2.6978606e+00,  2.7475565e+00,  2.7974730e+00,  2.8476108e+00,\n",
       "        2.8979707e+00,  2.9485538e+00,  2.9993608e+00,  3.0503927e+00,\n",
       "        3.1016504e+00,  3.1531347e+00,  3.2048465e+00,  3.2567867e+00,\n",
       "        3.3089562e+00,  3.3613559e+00,  3.4139865e+00,  3.4668491e+00,\n",
       "        3.5199445e+00,  3.5732736e+00,  3.6268372e+00,  3.6806362e+00,\n",
       "        3.7346716e+00,  3.7889441e+00,  3.8434547e+00,  3.8982041e+00,\n",
       "        3.9531933e+00,  4.0084232e+00,  4.0638946e+00,  4.1196084e+00,\n",
       "        4.1755654e+00,  4.2317665e+00,  4.2882125e+00,  4.3449044e+00,\n",
       "        4.4018429e+00,  4.4590290e+00,  4.5164633e+00,  4.5741469e+00,\n",
       "        4.6320806e+00,  4.6902651e+00,  4.7487012e+00,  4.8073899e+00,\n",
       "        4.8663319e+00,  4.9255280e+00,  4.9849791e+00,  5.0446859e+00,\n",
       "        5.1046493e+00,  5.1648700e+00,  5.2253489e+00,  5.2860866e+00,\n",
       "        5.3470840e+00,  5.4083418e+00,  5.4698609e+00,  5.5316419e+00,\n",
       "        5.5936856e+00,  5.6559928e+00,  5.7185642e+00,  5.7814005e+00,\n",
       "        5.8445025e+00,  5.9078708e+00,  5.9715061e+00,  6.0354093e+00,\n",
       "        6.0995810e+00,  6.1640218e+00,  6.2287324e+00,  6.2937136e+00,\n",
       "        6.3589660e+00,  6.4244902e+00,  6.4902869e+00,  6.5563567e+00,\n",
       "        6.6227003e+00,  6.6893184e+00,  6.7562114e+00,  6.8233801e+00,\n",
       "        6.8908249e+00,  6.9585467e+00,  7.0265459e+00,  7.0948230e+00,\n",
       "        7.1633787e+00,  7.2322135e+00,  7.3013281e+00,  7.3707229e+00,\n",
       "        7.4403983e+00,  7.5103550e+00,  7.5805935e+00,  7.6511144e+00,\n",
       "        7.7219180e+00,  7.7930048e+00,  7.8643753e+00,  7.9360301e+00,\n",
       "        8.0079696e+00,  8.0801941e+00,  8.1527041e+00,  8.2255000e+00,\n",
       "        8.2985824e+00,  8.3719515e+00,  8.4456076e+00,  8.5195513e+00,\n",
       "        8.5937828e+00,  8.6683026e+00,  8.7431110e+00,  8.8182082e+00,\n",
       "        8.8935946e+00,  8.9692706e+00,  9.0452365e+00,  9.1214924e+00,\n",
       "        9.1980387e+00,  9.2748756e+00,  9.3520035e+00,  9.4294226e+00,\n",
       "        9.5071331e+00,  9.5851351e+00,  9.6634290e+00,  9.7420149e+00,\n",
       "        9.8208931e+00,  9.9000635e+00,  9.9795265e+00,  1.0059282e+01,\n",
       "        1.0139331e+01,  1.0219672e+01,  1.0300307e+01,  1.0381235e+01,\n",
       "        1.0462455e+01,  1.0543970e+01,  1.0625777e+01,  1.0707878e+01,\n",
       "        1.0790273e+01,  1.0872961e+01,  1.0955942e+01,  1.1039217e+01,\n",
       "        1.1122786e+01,  1.1206647e+01,  1.1290802e+01,  1.1375251e+01,\n",
       "        1.1459992e+01,  1.1545027e+01,  1.1630355e+01,  1.1715976e+01,\n",
       "        1.1801889e+01,  1.1888095e+01,  1.1974594e+01,  1.2061385e+01,\n",
       "        1.2148468e+01,  1.2235843e+01,  1.2323510e+01,  1.2411468e+01,\n",
       "        1.2499718e+01,  1.2588259e+01,  1.2677091e+01,  1.2766213e+01,\n",
       "        1.2855625e+01,  1.2945328e+01,  1.3035320e+01,  1.3125601e+01,\n",
       "        1.3216171e+01,  1.3307030e+01,  1.3398177e+01,  1.3489612e+01,\n",
       "        1.3581334e+01,  1.3673343e+01,  1.3765639e+01,  1.3858221e+01,\n",
       "        1.3951089e+01,  1.4044241e+01,  1.4137679e+01,  1.4231401e+01,\n",
       "        1.4325406e+01,  1.4419694e+01,  1.4514265e+01,  1.4609119e+01,\n",
       "        1.4704253e+01,  1.4799669e+01,  1.4895364e+01,  1.4991340e+01,\n",
       "        1.5087594e+01,  1.5184127e+01,  1.5280938e+01,  1.5378025e+01,\n",
       "        1.5475389e+01,  1.5573029e+01,  1.5670944e+01,  1.5769133e+01,\n",
       "        1.5867596e+01,  1.5966331e+01,  1.6065339e+01,  1.6164618e+01,\n",
       "        1.6264167e+01,  1.6363986e+01,  1.6464074e+01,  1.6564430e+01,\n",
       "        1.6665053e+01,  1.6765942e+01,  1.6867097e+01,  1.6968516e+01,\n",
       "        1.7070199e+01,  1.7172145e+01,  1.7274352e+01,  1.7376821e+01,\n",
       "        1.7479549e+01,  1.7582536e+01,  1.7685781e+01,  1.7789284e+01,\n",
       "        1.7893042e+01,  1.7997055e+01,  1.8101322e+01,  1.8205842e+01,\n",
       "        1.8310614e+01,  1.8415637e+01,  1.8520910e+01,  1.8626431e+01,\n",
       "        1.8732200e+01,  1.8838215e+01,  1.8944476e+01,  1.9050981e+01,\n",
       "        1.9157729e+01,  1.9264718e+01,  1.9371949e+01,  1.9479420e+01,\n",
       "        1.9587128e+01,  1.9695074e+01,  1.9803256e+01,  1.9911673e+01,\n",
       "        2.0020324e+01,  2.0129207e+01,  2.0238320e+01,  2.0347664e+01,\n",
       "        2.0457236e+01,  2.0567036e+01,  2.0677062e+01,  2.0787312e+01,\n",
       "        2.0897786e+01,  2.1008481e+01,  2.1119398e+01,  2.1230534e+01,\n",
       "        2.1341888e+01,  2.1453458e+01,  2.1565244e+01,  2.1677244e+01,\n",
       "        2.1789457e+01,  2.1901880e+01,  2.2014514e+01,  2.2127356e+01,\n",
       "        2.2240405e+01,  2.2353660e+01,  2.2467118e+01,  2.2580780e+01,\n",
       "        2.2694643e+01,  2.2808706e+01,  2.2922967e+01,  2.3037425e+01,\n",
       "        2.3152079e+01,  2.3266927e+01,  2.3381967e+01,  2.3497199e+01,\n",
       "        2.3612620e+01,  2.3728229e+01,  2.3844025e+01,  2.3960006e+01,\n",
       "        2.4076170e+01,  2.4192517e+01,  2.4309044e+01,  2.4425750e+01,\n",
       "        2.4542633e+01,  2.4659692e+01,  2.4776926e+01,  2.4894333e+01,\n",
       "        2.5011910e+01,  2.5129658e+01,  2.5247573e+01,  2.5365655e+01,\n",
       "        2.5483902e+01,  2.5602312e+01,  2.5720884e+01,  2.5839616e+01,\n",
       "        2.5958506e+01,  2.6077554e+01,  2.6196756e+01,  2.6316113e+01,\n",
       "        2.6435621e+01,  2.6555280e+01,  2.6675088e+01,  2.6795042e+01,\n",
       "        2.6915143e+01,  2.7035387e+01,  2.7155773e+01,  2.7276300e+01,\n",
       "        2.7396965e+01,  2.7517768e+01,  2.7638707e+01,  2.7759779e+01,\n",
       "        2.7880984e+01,  2.8002319e+01,  2.8123783e+01,  2.8245374e+01,\n",
       "        2.8367091e+01,  2.8488931e+01,  2.8610893e+01,  2.8732976e+01,\n",
       "        2.8855178e+01,  2.8977496e+01,  2.9099930e+01,  2.9222477e+01,\n",
       "        2.9345136e+01,  2.9467905e+01,  2.9590783e+01,  2.9713767e+01,\n",
       "        2.9836856e+01,  2.9960048e+01,  3.0083342e+01,  3.0206736e+01,\n",
       "        3.0330227e+01,  3.0453816e+01,  3.0577498e+01,  3.0701273e+01,\n",
       "        3.0825140e+01,  3.0949095e+01,  3.1073139e+01,  3.1197268e+01,\n",
       "        3.1321481e+01,  3.1445777e+01,  3.1570153e+01,  3.1694608e+01,\n",
       "        3.1819140e+01,  3.1943747e+01,  3.2068428e+01,  3.2193181e+01,\n",
       "        3.2318003e+01,  3.2442894e+01,  3.2567852e+01,  3.2692874e+01,\n",
       "        3.2817960e+01,  3.2943106e+01,  3.3068313e+01,  3.3193576e+01,\n",
       "        3.3318896e+01,  3.3444270e+01,  3.3569697e+01,  3.3695174e+01,\n",
       "        3.3820700e+01,  3.3946273e+01,  3.4071892e+01,  3.4197554e+01,\n",
       "        3.4323259e+01,  3.4449003e+01,  3.4574786e+01,  3.4700605e+01,\n",
       "        3.4826459e+01,  3.4952346e+01,  3.5078265e+01,  3.5204213e+01,\n",
       "        3.5330190e+01,  3.5456192e+01,  3.5582218e+01,  3.5708267e+01,\n",
       "        3.5834338e+01,  3.5960427e+01,  3.6086533e+01,  3.6212655e+01,\n",
       "        3.6338791e+01,  3.6464939e+01,  3.6591098e+01,  3.6717265e+01,\n",
       "        3.6843439e+01,  3.6969619e+01,  3.7095803e+01,  3.7221988e+01,\n",
       "        3.7348174e+01,  3.7474359e+01,  3.7600541e+01,  3.7726719e+01,\n",
       "        3.7852890e+01,  3.7979054e+01,  3.8105209e+01,  3.8231353e+01,\n",
       "        3.8357486e+01,  3.8483604e+01,  3.8609707e+01,  3.8735794e+01,\n",
       "        3.8861862e+01,  3.8987911e+01,  3.9113939e+01,  3.9239944e+01,\n",
       "        3.9365926e+01,  3.9491882e+01,  3.9617812e+01,  3.9743713e+01,\n",
       "        3.9869585e+01,  3.9995427e+01,  4.0121236e+01,  4.0247012e+01,\n",
       "        4.0372753e+01,  4.0498458e+01,  4.0624126e+01,  4.0749756e+01,\n",
       "        4.0875346e+01,  4.1000895e+01,  4.1126401e+01,  4.1251865e+01,\n",
       "        4.1377284e+01,  4.1502658e+01,  4.1627986e+01,  4.1753265e+01,\n",
       "        4.1878496e+01,  4.2003677e+01,  4.2128808e+01,  4.2253887e+01,\n",
       "        4.2378913e+01,  4.2503885e+01,  4.2628803e+01,  4.2753666e+01,\n",
       "        4.2878472e+01,  4.3003221e+01,  4.3127912e+01,  4.3252544e+01,\n",
       "        4.3377116e+01,  4.3501628e+01,  4.3626079e+01,  4.3750468e+01,\n",
       "        4.3874794e+01,  4.3999057e+01,  4.4123256e+01,  4.4247390e+01,\n",
       "        4.4371459e+01,  4.4495462e+01,  4.4619399e+01,  4.4743268e+01,\n",
       "        4.4867070e+01,  4.4990804e+01,  4.5114469e+01,  4.5238065e+01,\n",
       "        4.5361591e+01,  4.5485047e+01,  4.5608432e+01,  4.5731746e+01,\n",
       "        4.5854989e+01,  4.5978160e+01,  4.6101258e+01,  4.6224284e+01,\n",
       "        4.6347237e+01,  4.6470117e+01,  4.6592922e+01,  4.6715654e+01,\n",
       "        4.6838312e+01,  4.6960895e+01,  4.7083403e+01,  4.7205836e+01,\n",
       "        4.7328193e+01,  4.7450476e+01,  4.7572682e+01,  4.7694813e+01,\n",
       "        4.7816867e+01,  4.7938846e+01,  4.8060748e+01,  4.8182574e+01,\n",
       "        4.8304323e+01,  4.8425995e+01,  4.8547591e+01,  4.8669110e+01,\n",
       "        4.8790553e+01,  4.8911918e+01,  4.9033207e+01,  4.9154419e+01,\n",
       "        4.9275554e+01,  4.9396613e+01,  4.9517595e+01,  4.9638500e+01,\n",
       "        4.9759329e+01,  4.9880081e+01,  5.0000757e+01,  5.0121357e+01,\n",
       "        5.0241880e+01,  5.0362328e+01,  5.0482700e+01,  5.0602996e+01,\n",
       "        5.0723217e+01,  5.0843363e+01,  5.0963433e+01,  5.1083429e+01,\n",
       "        5.1203351e+01,  5.1323198e+01,  5.1442971e+01,  5.1562670e+01,\n",
       "        5.1682296e+01,  5.1801849e+01,  5.1921329e+01,  5.2040736e+01,\n",
       "        5.2160072e+01,  5.2279336e+01,  5.2398528e+01,  5.2517650e+01,\n",
       "        5.2636700e+01,  5.2755681e+01,  5.2874592e+01,  5.2993433e+01,\n",
       "        5.3112206e+01,  5.3230910e+01,  5.3349546e+01,  5.3468114e+01,\n",
       "        5.3586615e+01,  5.3705049e+01,  5.3823417e+01,  5.3941719e+01,\n",
       "        5.4059955e+01,  5.4178127e+01,  5.4296234e+01,  5.4414277e+01,\n",
       "        5.4532256e+01,  5.4650172e+01,  5.4768026e+01,  5.4885818e+01,\n",
       "        5.5003548e+01,  5.5121217e+01,  5.5238825e+01,  5.5356373e+01,\n",
       "        5.5473862e+01,  5.5591292e+01,  5.5708664e+01,  5.5825977e+01,\n",
       "        5.5943234e+01,  5.6060433e+01,  5.6177576e+01,  5.6294664e+01,\n",
       "        5.6411696e+01,  5.6528674e+01,  5.6645598e+01,  5.6762469e+01,\n",
       "        5.6879287e+01,  5.6996052e+01,  5.7112766e+01,  5.7229429e+01,\n",
       "        5.7346041e+01,  5.7462603e+01,  5.7579116e+01,  5.7695580e+01,\n",
       "        5.7811996e+01,  5.7928365e+01,  5.8044686e+01,  5.8160961e+01,\n",
       "        5.8277190e+01,  5.8393374e+01,  5.8509514e+01,  5.8625609e+01,\n",
       "        5.8741661e+01,  5.8857670e+01,  5.8973636e+01,  5.9089562e+01,\n",
       "        5.9205446e+01,  5.9321289e+01,  5.9437093e+01,  5.9552858e+01,\n",
       "        5.9668584e+01,  5.9784272e+01,  5.9899923e+01,  6.0015537e+01,\n",
       "        6.0131116e+01,  6.0246658e+01,  6.0362166e+01,  6.0477639e+01,\n",
       "        6.0593080e+01,  6.0708487e+01,  6.0823862e+01,  6.0939205e+01,\n",
       "        6.1054518e+01,  6.1169801e+01,  6.1285054e+01,  6.1400278e+01,\n",
       "        6.1515474e+01,  6.1630643e+01,  6.1745785e+01,  6.1860902e+01,\n",
       "        6.1975993e+01,  6.2091060e+01,  6.2206103e+01,  6.2321123e+01,\n",
       "        6.2436122e+01,  6.2551098e+01,  6.2666054e+01,  6.2780991e+01,\n",
       "        6.2895908e+01,  6.3010807e+01,  6.3125689e+01,  6.3240554e+01,\n",
       "        6.3355403e+01,  6.3470237e+01,  6.3585057e+01,  6.3699864e+01,\n",
       "        6.3814658e+01,  6.3929441e+01,  6.4044213e+01,  6.4158975e+01,\n",
       "        6.4273728e+01,  6.4388473e+01,  6.4503210e+01,  6.4617941e+01,\n",
       "        6.4732666e+01,  6.4847387e+01,  6.4962103e+01,  6.5076817e+01,\n",
       "        6.5191529e+01,  6.5306239e+01,  6.5420949e+01,  6.5535659e+01,\n",
       "        6.5650372e+01,  6.5765086e+01,  6.5879804e+01,  6.5994525e+01,\n",
       "        6.6109252e+01,  6.6223985e+01,  6.6338725e+01,  6.6453472e+01,\n",
       "        6.6568229e+01,  6.6682995e+01,  6.6797772e+01,  6.6912560e+01,\n",
       "        6.7027360e+01,  6.7142174e+01,  6.7257003e+01,  6.7371847e+01,\n",
       "        6.7486707e+01,  6.7601584e+01,  6.7716480e+01,  6.7831394e+01,\n",
       "        6.7946329e+01,  6.8061284e+01,  6.8176262e+01,  6.8291262e+01,\n",
       "        6.8406286e+01,  6.8521335e+01,  6.8636409e+01,  6.8751509e+01,\n",
       "        6.8866637e+01,  6.8981794e+01,  6.9096979e+01,  6.9212194e+01,\n",
       "        6.9327440e+01,  6.9442718e+01,  6.9558029e+01,  6.9673373e+01,\n",
       "        6.9788751e+01,  6.9904165e+01,  7.0019614e+01,  7.0135100e+01,\n",
       "        7.0250625e+01,  7.0366187e+01,  7.0481789e+01,  7.0597432e+01,\n",
       "        7.0713115e+01,  7.0828840e+01,  7.0944608e+01,  7.1060419e+01,\n",
       "        7.1176274e+01,  7.1292175e+01,  7.1408121e+01,  7.1524114e+01,\n",
       "        7.1640155e+01,  7.1756243e+01,  7.1872380e+01,  7.1988566e+01,\n",
       "        7.2104802e+01,  7.2221089e+01,  7.2337427e+01,  7.2453817e+01,\n",
       "        7.2570259e+01,  7.2686754e+01,  7.2803302e+01,  7.2919904e+01,\n",
       "        7.3036561e+01,  7.3153272e+01,  7.3270039e+01,  7.3386861e+01,\n",
       "        7.3503739e+01,  7.3620674e+01,  7.3737665e+01,  7.3854713e+01,\n",
       "        7.3971819e+01,  7.4088982e+01,  7.4206203e+01,  7.4323482e+01,\n",
       "        7.4440819e+01,  7.4558215e+01,  7.4675670e+01,  7.4793183e+01,\n",
       "        7.4910755e+01,  7.5028386e+01,  7.5146076e+01,  7.5263825e+01,\n",
       "        7.5381633e+01,  7.5499501e+01,  7.5617427e+01,  7.5735412e+01,\n",
       "        7.5853456e+01,  7.5971559e+01,  7.6089720e+01,  7.6207939e+01,\n",
       "        7.6326216e+01,  7.6444551e+01,  7.6562944e+01,  7.6681394e+01,\n",
       "        7.6799900e+01,  7.6918463e+01,  7.7037081e+01,  7.7155755e+01,\n",
       "        7.7274484e+01,  7.7393268e+01,  7.7512105e+01,  7.7630995e+01,\n",
       "        7.7749939e+01,  7.7868934e+01,  7.7987981e+01,  7.8107078e+01,\n",
       "        7.8226225e+01,  7.8345421e+01,  7.8464665e+01,  7.8583957e+01,\n",
       "        7.8703295e+01,  7.8822679e+01,  7.8942108e+01,  7.9061581e+01,\n",
       "        7.9181096e+01,  7.9300653e+01,  7.9420250e+01,  7.9539887e+01,\n",
       "        7.9659562e+01,  7.9779275e+01,  7.9899023e+01,  8.0018806e+01,\n",
       "        8.0138622e+01,  8.0258470e+01,  8.0378349e+01,  8.0498256e+01,\n",
       "        8.0618192e+01,  8.0738154e+01,  8.0858141e+01,  8.0978150e+01,\n",
       "        8.1098181e+01,  8.1218233e+01,  8.1338302e+01,  8.1458388e+01,\n",
       "        8.1578489e+01,  8.1698603e+01,  8.1818728e+01,  8.1938863e+01,\n",
       "        8.2059005e+01,  8.2179152e+01,  8.2299304e+01,  8.2419457e+01,\n",
       "        8.2539609e+01,  8.2659759e+01,  8.2779905e+01,  8.2900044e+01,\n",
       "        8.3020174e+01,  8.3140293e+01,  8.3260399e+01,  8.3380489e+01,\n",
       "        8.3500562e+01,  8.3620615e+01,  8.3740645e+01,  8.3860650e+01,\n",
       "        8.3980628e+01,  8.4100577e+01,  8.4220493e+01,  8.4340375e+01,\n",
       "        8.4460219e+01,  8.4580025e+01,  8.4699787e+01,  8.4819505e+01,\n",
       "        8.4939175e+01,  8.5058795e+01,  8.5178363e+01,  8.5297874e+01,\n",
       "        8.5417328e+01,  8.5536720e+01,  8.5656048e+01,  8.5775309e+01,\n",
       "        8.5894501e+01,  8.6013620e+01,  8.6132663e+01,  8.6251628e+01,\n",
       "        8.6370512e+01,  8.6489311e+01,  8.6608023e+01,  8.6726645e+01,\n",
       "        8.6845173e+01,  8.6963604e+01,  8.7081936e+01,  8.7200165e+01,\n",
       "        8.7318288e+01,  8.7436302e+01,  8.7554204e+01,  8.7671991e+01,\n",
       "        8.7789660e+01,  8.7907207e+01,  8.8024629e+01,  8.8141924e+01,\n",
       "        8.8259087e+01,  8.8376116e+01,  8.8493008e+01,  8.8609759e+01,\n",
       "        8.8726366e+01,  8.8842825e+01,  8.8959135e+01,  8.9075291e+01,\n",
       "        8.9191290e+01,  8.9307128e+01,  8.9422804e+01,  8.9538313e+01,\n",
       "        8.9653652e+01,  8.9768817e+01,  8.9883806e+01,  8.9998615e+01,\n",
       "        9.0113241e+01,  9.0227681e+01,  9.0341931e+01,  9.0455988e+01,\n",
       "        9.0569849e+01,  9.0683510e+01,  9.0796968e+01,  9.0910221e+01,\n",
       "        9.1023263e+01,  9.1136094e+01,  9.1248709e+01,  9.1361104e+01,\n",
       "        9.1473278e+01,  9.1585226e+01,  9.1696946e+01,  9.1808434e+01,\n",
       "        9.1919688e+01,  9.2030703e+01,  9.2141478e+01,  9.2252009e+01,\n",
       "        9.2362293e+01,  9.2472326e+01,  9.2582106e+01,  9.2691631e+01,\n",
       "        9.2800896e+01,  9.2909899e+01,  9.3018637e+01,  9.3127107e+01,\n",
       "        9.3235306e+01,  9.3343231e+01,  9.3450880e+01,  9.3558249e+01,\n",
       "        9.3665336e+01,  9.3772137e+01,  9.3878651e+01,  9.3984874e+01,\n",
       "        9.4090803e+01,  9.4196436e+01,  9.4301770e+01,  9.4406803e+01,\n",
       "        9.4511531e+01,  9.4615953e+01,  9.4720066e+01,  9.4823867e+01,\n",
       "        9.4927354e+01,  9.5030525e+01,  9.5133376e+01,  9.5235907e+01,\n",
       "        9.5338115e+01,  9.5439996e+01,  9.5541550e+01,  9.5642774e+01,\n",
       "        9.5743665e+01,  9.5844223e+01,  9.5944444e+01,  9.6044327e+01,\n",
       "        9.6143870e+01,  9.6243070e+01,  9.6341927e+01,  9.6440438e+01,\n",
       "        9.6538600e+01,  9.6636414e+01,  9.6733876e+01,  9.6830986e+01,\n",
       "        9.6927741e+01,  9.7024139e+01,  9.7120180e+01,  9.7215862e+01,\n",
       "        9.7311183e+01,  9.7406141e+01,  9.7500736e+01,  9.7594966e+01,\n",
       "        9.7688830e+01,  9.7782326e+01,  9.7875453e+01,  9.7968210e+01,\n",
       "        9.8060596e+01,  9.8152610e+01,  9.8244250e+01,  9.8335516e+01,\n",
       "        9.8426407e+01,  9.8516922e+01,  9.8607060e+01,  9.8696820e+01,\n",
       "        9.8786201e+01,  9.8875203e+01,  9.8963825e+01,  9.9052066e+01,\n",
       "        9.9139926e+01,  9.9227404e+01,  9.9314500e+01,  9.9401213e+01,\n",
       "        9.9487543e+01,  9.9573488e+01,  9.9659050e+01])"
      ]
     },
     "execution_count": 20,
     "metadata": {},
     "output_type": "execute_result"
    }
   ],
   "source": [
    "data[:,1]"
   ]
  },
  {
   "cell_type": "markdown",
   "metadata": {
    "id": "IRIL1P7GKulz"
   },
   "source": [
    "Plot all the data that you downloaded. Let's treat the first column as the x axis values, and the second as the y axis values."
   ]
  },
  {
   "cell_type": "code",
   "execution_count": 30,
   "metadata": {
    "id": "TtRdIlUyKulz"
   },
   "outputs": [
    {
     "data": {
      "text/plain": [
       "Text(0, 0.5, 'y')"
      ]
     },
     "execution_count": 30,
     "metadata": {},
     "output_type": "execute_result"
    },
    {
     "data": {
      "image/png": "[encoded data removed]",
      "text/plain": [
       "<Figure size 432x288 with 1 Axes>"
      ]
     },
     "metadata": {
      "needs_background": "light"
     },
     "output_type": "display_data"
    }
   ],
   "source": [
    "x_array = data[:,0]\n",
    "y_array = data[:,1]\n",
    "\n",
    "plot(x_array, y_array)\n",
    "xlabel(\"x\")\n",
    "ylabel(\"y\")"
   ]
  },
  {
   "cell_type": "markdown",
   "metadata": {
    "id": "O68A9wP9Kulz"
   },
   "source": [
    "### Numerical Derivatives"
   ]
  },
  {
   "cell_type": "markdown",
   "metadata": {
    "id": "frUTUQmxKulz"
   },
   "source": [
    "We discussed how position $x(t)$, velocity $v(t)$ and acceleration are related.\n",
    "$$v(t) = \\frac{\\hbox{d} x(t)}{\\hbox{d} t}~,$$\n",
    "$$ a(t) = \\frac{\\hbox{d} v(t)}{\\hbox{d} t}~.$$\n",
    "In textbook problems, we can simply take the derivative but for the data that we just plotted we need to take a numerical derivative. Calculate the numerical derivative for the data that we imported."
   ]
  },
  {
   "cell_type": "code",
   "execution_count": 24,
   "metadata": {
    "id": "hSna9xeAKul0"
   },
   "outputs": [],
   "source": [
    "def derivative(data_array):\n",
    "    delta_x = 0.\n",
    "    delta_t = 0.\n",
    "    derivative_array = zeros(len(data_array))\n",
    "    for i in range(len(data_array)-1):\n",
    "        delta_x = data[i+1,1]-data[i,1]\n",
    "        delta_t = data[i+1,0]-data[i,0]\n",
    "        derivative_array[i] = delta_x/delta_t\n",
    "\n",
    "\n",
    "    return derivative_array"
   ]
  },
  {
   "cell_type": "markdown",
   "metadata": {
    "id": "zCMR5NqWKul0"
   },
   "source": [
    "Take the derivative of the data you plotted from the last section. Let's interpret that data as the position (`data[:,1]`) as a function of the sampling times (`data[:,0]`). So the plot you made above is position (y-axis) as a function of time (x-axis). Find an array containing the velocity as a function of time."
   ]
  },
  {
   "cell_type": "code",
   "execution_count": 28,
   "metadata": {
    "id": "pwndMRS8Kul0"
   },
   "outputs": [],
   "source": [
    "velocity_array = derivative(data)\n"
   ]
  },
  {
   "cell_type": "markdown",
   "metadata": {
    "id": "x22BCW-kKul0"
   },
   "source": [
    "Great! Now that you have a new array containing the derivative, **let's plot that**! Then we should be looking at the *velocity* of this object! Remember that the derivative will be a new set of y values, but you should be able to plot against the same original x values (`data[:,0]`)."
   ]
  },
  {
   "cell_type": "code",
   "execution_count": 29,
   "metadata": {
    "id": "1Vv9WabQKul0"
   },
   "outputs": [
    {
     "data": {
      "text/plain": [
       "[<matplotlib.lines.Line2D at 0x7f2cbdc189d0>]"
      ]
     },
     "execution_count": 29,
     "metadata": {},
     "output_type": "execute_result"
    },
    {
     "data": {
      "image/png": "[encoded data removed]",
      "text/plain": [
       "<Figure size 432x288 with 1 Axes>"
      ]
     },
     "metadata": {
      "needs_background": "light"
     },
     "output_type": "display_data"
    }
   ],
   "source": [
    "plot(x_array, velocity_array)"
   ]
  },
  {
   "cell_type": "markdown",
   "metadata": {
    "id": "CydNZcjxKul0"
   },
   "source": [
    "Try plotting both the original values (the position) and the first derivative (the velocity) on the same plot!"
   ]
  },
  {
   "cell_type": "code",
   "execution_count": 31,
   "metadata": {
    "id": "ZFsx6_2UKul0"
   },
   "outputs": [
    {
     "data": {
      "text/plain": [
       "[<matplotlib.lines.Line2D at 0x7f2cbdb4b3d0>]"
      ]
     },
     "execution_count": 31,
     "metadata": {},
     "output_type": "execute_result"
    },
    {
     "data": {
      "image/png": "[encoded data removed]",
      "text/plain": [
       "<Figure size 432x288 with 1 Axes>"
      ]
     },
     "metadata": {
      "needs_background": "light"
     },
     "output_type": "display_data"
    }
   ],
   "source": [
    "plot(x_array, y_array)\n",
    "plot(x_array, velocity_array)"
   ]
  },
  {
   "cell_type": "markdown",
   "metadata": {
    "id": "ZOu-t4yiKul0"
   },
   "source": [
    "**EC(+0.5): If you have time at the end, come back here and try to show (numerically) how the exponential function `exp(x)` is related to its derivative.**"
   ]
  },
  {
   "cell_type": "markdown",
   "metadata": {
    "id": "urZIJlLyKul0"
   },
   "source": [
    "### Riemann Integral"
   ]
  },
  {
   "cell_type": "markdown",
   "metadata": {
    "id": "-QZc485XKul1"
   },
   "source": [
    "In addition to numerical differentiation, let's also try a numerical integral. Remember that an integral is just the area under a curve. So you'll remember that there are geometrical methods to arrive at numerical approximations for integrals -- and this is what's done in practice in computation a lot. So let's use a simple Riemannian method of adding rectangles together."
   ]
  },
  {
   "cell_type": "code",
   "execution_count": 32,
   "metadata": {
    "id": "3D7NZCnlKul1",
    "scrolled": true
   },
   "outputs": [
    {
     "data": {
      "text/plain": [
       "Text(0.5, 1.0, 'Left Riemann Sum, N = 30')"
      ]
     },
     "execution_count": 32,
     "metadata": {},
     "output_type": "execute_result"
    },
    {
     "data": {
      "image/png": "[encoded data removed]",
      "text/plain": [
       "<Figure size 432x288 with 1 Axes>"
      ]
     },
     "metadata": {
      "needs_background": "light"
     },
     "output_type": "display_data"
    }
   ],
   "source": [
    "def f(x):\n",
    "    return x\n",
    "\n",
    "\n",
    "rangeStart = 0; rangeEnd = 10; nRectangles = 30\n",
    "nSmooth = 10*nRectangles # for drawing a (seemingly) smooth curve.\n",
    "\n",
    "# This will give us a very coarse sampling of this function -> a bunch of rectangles with\n",
    "# width (rangeEnd-rangeStart)/nRectangles\n",
    "\n",
    "x = linspace(rangeStart,rangeEnd,nRectangles+1)\n",
    "y = f(x)\n",
    "w = (rangeEnd-rangeStart)/nRectangles\n",
    "\n",
    "# This will give us the data point for our continuous version of the function. Let's say this is\n",
    "# Effectively infinitly sampled.\n",
    "\n",
    "X = linspace(rangeStart,rangeEnd,nSmooth+1)\n",
    "Y = f(X)\n",
    "\n",
    "# This plots the \"true\" function.\n",
    "plot(X,Y)\n",
    "\n",
    "# This shows the markers\n",
    "plot(x,y,'b.',markersize=10)\n",
    "\n",
    "# This will show the actual rectangle's we'll use in approximating this integral.\n",
    "bar(x,y,width=w,alpha=0.2,align='edge',edgecolor='b')\n",
    "\n",
    "title('Left Riemann Sum, N = {}'.format(nRectangles))"
   ]
  },
  {
   "cell_type": "markdown",
   "metadata": {
    "id": "UhdttqT2Kul1"
   },
   "source": [
    "If we want to take the integral, we just need to sum up the areas of those rectangles. (Notice, we should remove the last one if we're looking for the integral between 0 and 10 here. We can do that using a negative syntax. While `x[:]` will return all of `x`, if you do `x[:-1]` it'll give all of `x` except the last element. `x[:-2]` gives all but the last two, etc etc etc.)"
   ]
  },
  {
   "cell_type": "code",
   "execution_count": 33,
   "metadata": {
    "id": "yJ6EKWLcKul1"
   },
   "outputs": [
    {
     "data": {
      "text/plain": [
       "48.33333333333332"
      ]
     },
     "execution_count": 33,
     "metadata": {},
     "output_type": "execute_result"
    }
   ],
   "source": [
    "def integrate(heights, width): #give it an array of heights and then a single float with the width of each rectangle.\n",
    "    arrayOfAreas = heights*width # This is a number times an array, so it returns an array\n",
    "    return sum(arrayOfAreas) # This sums over these elements to give a number as an output.\n",
    "\n",
    "integrate(x[:-1],w)"
   ]
  },
  {
   "cell_type": "markdown",
   "metadata": {
    "id": "4ZxxBdT8Kul1"
   },
   "source": [
    "This `integrate` function is adding together areas of rectangles. And you can see in the region between 0 and 10, the rectangles miss a little bit (that white triangle at the top). So we expect this number to **underestimate** the correct answer. On paper, analytically calculate the correct answer for this function between 0 and 10. How does it compare to this answer?"
   ]
  },
  {
   "cell_type": "code",
   "execution_count": null,
   "metadata": {
    "id": "TFDCrXyRKul1"
   },
   "outputs": [],
   "source": [
    "#Correct answer is 50 so the previosly calulated answer 48.3333333 using code had a error percent of 3%"
   ]
  },
  {
   "cell_type": "markdown",
   "metadata": {
    "id": "TNCX8GlcKul1"
   },
   "source": [
    "Now try playing with the `nRectangles` parameter above to see what raising and lowering it does to the integral. (Remember that you can go back up and edit and re-execute cells.)"
   ]
  },
  {
   "cell_type": "code",
   "execution_count": null,
   "metadata": {
    "id": "9O4SCnLbKul1"
   },
   "outputs": [],
   "source": [
    "#The value calulated by the code will get closer and closer to the correct answer as number of rectanlges\n",
    "#approaches infinity"
   ]
  },
  {
   "cell_type": "markdown",
   "metadata": {
    "id": "jOMDLhbaKul2"
   },
   "source": [
    "**EC(+0.5): If you still have time, try this again with a function and interval of your choice. Take any function, and approximate its integral in some range of your choosing.**"
   ]
  }
 ],
 "metadata": {
  "colab": {
   "provenance": []
  },
  "interpreter": {
   "hash": "9deafd394aff8b6cb6c0144de6e8b26f30e2c4e8480b925f227d21668087d7c6"
  },
  "kernelspec": {
   "display_name": "Python 3",
   "language": "python",
   "name": "python3"
  },
  "language_info": {
   "codemirror_mode": {
    "name": "ipython",
    "version": 3
   },
   "file_extension": ".py",
   "mimetype": "text/x-python",
   "name": "python",
   "nbconvert_exporter": "python",
   "pygments_lexer": "ipython3",
   "version": "3.8.8"
  },
  "toc": {
   "base_numbering": 1,
   "nav_menu": {},
   "number_sections": true,
   "sideBar": true,
   "skip_h1_title": false,
   "title_cell": "Table of Contents",
   "title_sidebar": "Contents",
   "toc_cell": false,
   "toc_position": {},
   "toc_section_display": true,
   "toc_window_display": false
  },
  "varInspector": {
   "cols": {
    "lenName": 16,
    "lenType": 16,
    "lenVar": 40
   },
   "kernels_config": {
    "python": {
     "delete_cmd_postfix": "",
     "delete_cmd_prefix": "del ",
     "library": "var_list.py",
     "varRefreshCmd": "print(var_dic_list())"
    },
    "r": {
     "delete_cmd_postfix": ") ",
     "delete_cmd_prefix": "rm(",
     "library": "var_list.r",
     "varRefreshCmd": "cat(var_dic_list()) "
    }
   },
   "types_to_exclude": [
    "module",
    "function",
    "builtin_function_or_method",
    "instance",
    "_Feature"
   ],
   "window_display": false
  }
 },
 "nbformat": 4,
 "nbformat_minor": 1
}
